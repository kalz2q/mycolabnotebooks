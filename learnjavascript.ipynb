{
  "nbformat": 4,
  "nbformat_minor": 0,
  "metadata": {
    "colab": {
      "name": "learnjavascript.ipynb",
      "provenance": [],
      "toc_visible": true,
      "authorship_tag": "ABX9TyMa5qnzqzweMyVnN0yDOaaj",
      "include_colab_link": true
    },
    "kernelspec": {
      "name": "python3",
      "display_name": "Python 3"
    }
  },
  "cells": [
    {
      "cell_type": "markdown",
      "metadata": {
        "id": "view-in-github",
        "colab_type": "text"
      },
      "source": [
        "<a href=\"https://colab.research.google.com/github/kalz2q/mycolabnotebooks/blob/master/learnjavascript.ipynb\" target=\"_parent\"><img src=\"https://colab.research.google.com/assets/colab-badge.svg\" alt=\"Open In Colab\"/></a>"
      ]
    },
    {
      "cell_type": "markdown",
      "source": [
        "# はじめに\n",
        "コードセルで%%script nodeとして云々、とする。"
      ],
      "metadata": {
        "id": "Ous5mXfXWtGU"
      }
    },
    {
      "cell_type": "code",
      "source": [
        "!node --version\n",
        "!npm -v"
      ],
      "metadata": {
        "id": "VhPVVysqG4dx",
        "outputId": "0709d7cf-5131-4cf1-afdf-0912bfc2694c",
        "colab": {
          "base_uri": "https://localhost:8080/"
        }
      },
      "execution_count": 3,
      "outputs": [
        {
          "output_type": "stream",
          "name": "stdout",
          "text": [
            "v20.19.0\n",
            "10.8.2\n",
            "\u001b[1G\u001b[0K"
          ]
        }
      ]
    },
    {
      "cell_type": "code",
      "source": [
        "!which node\n",
        "!which npm"
      ],
      "metadata": {
        "id": "CW1KuDD9I1IZ",
        "outputId": "322fe6fa-908c-4bd4-9093-10d8711a760c",
        "colab": {
          "base_uri": "https://localhost:8080/"
        }
      },
      "execution_count": 4,
      "outputs": [
        {
          "output_type": "stream",
          "name": "stdout",
          "text": [
            "/tools/node/bin/node\n",
            "/tools/node/bin/npm\n"
          ]
        }
      ]
    },
    {
      "cell_type": "code",
      "source": [
        "# 文字列をソートして文字列に戻す\n",
        "# 変数はconstで定義する\n",
        "%%script node\n",
        "const name = \"ed\"\n",
        "console.log (name)\n",
        "// console.log (Name) => not defined\n",
        "console.log(name.toUpperCase())\n",
        "console.log(name.split(\"\").sort().join('').toUpperCase())\n",
        "console.log(name.capitalize) // => undefined"
      ],
      "metadata": {
        "id": "MNokmQKYkmrR",
        "outputId": "e8b4e75b-c20e-4572-ff42-19f134d7887b",
        "colab": {
          "base_uri": "https://localhost:8080/"
        }
      },
      "execution_count": null,
      "outputs": [
        {
          "output_type": "stream",
          "name": "stdout",
          "text": [
            "ed\n",
            "ED\n",
            "DE\n",
            "undefined\n"
          ]
        }
      ]
    },
    {
      "cell_type": "code",
      "source": [
        "# capitalize\n",
        "# https://flexiple.com/javascript/javascript-capitalize-first-letter"
      ],
      "metadata": {
        "id": "YCXD6w5quLRM"
      },
      "execution_count": null,
      "outputs": []
    },
    {
      "cell_type": "code",
      "source": [
        "# 配列もconstで定義するが、配列はimmutableではない\n",
        "# push, pop, sort, reverseなどは配列の破壊的メソッドである\n",
        "%%script node\n",
        "const original = [\"e\",\"d\"]\n",
        "console.log(original.sort()) // この時点でoriginalは変化している\n",
        "console.log(original)\n",
        "console.log(original.push(\"kkk\")) // 返り値は3であって、配列ではない\n",
        "console.log(original)"
      ],
      "metadata": {
        "colab": {
          "base_uri": "https://localhost:8080/"
        },
        "id": "1U8HpcOEogtE",
        "outputId": "6ed51487-c291-42d9-a07e-d53f6e642d3d"
      },
      "execution_count": null,
      "outputs": [
        {
          "output_type": "stream",
          "name": "stdout",
          "text": [
            "[ 'd', 'e' ]\n",
            "[ 'd', 'e' ]\n",
            "3\n",
            "[ 'd', 'e', 'kkk' ]\n"
          ]
        }
      ]
    },
    {
      "cell_type": "code",
      "source": [
        "# 安全に使うためにcopyを作る\n",
        "%%script node\n",
        "const original = [\"e\",\"d\"]\n",
        "const copy = [...original] // const copy = original としてはいけない\n",
        "console.log(copy.sort())\n",
        "console.log(original)\n",
        "copy.push(\"kkk\")\n",
        "console.log(copy)\n",
        "console.log(original)"
      ],
      "metadata": {
        "colab": {
          "base_uri": "https://localhost:8080/"
        },
        "id": "0GBvbF_qqGwk",
        "outputId": "9a425686-3b7e-40bc-a6d3-ad1ac927562c"
      },
      "execution_count": null,
      "outputs": [
        {
          "output_type": "stream",
          "name": "stdout",
          "text": [
            "false\n",
            "[ 'd', 'e' ]\n",
            "[ 'e', 'd' ]\n",
            "[ 'd', 'e', 'kkk' ]\n",
            "[ 'e', 'd' ]\n"
          ]
        }
      ]
    },
    {
      "cell_type": "code",
      "source": [
        "# 関数実験 return は要る。ないと返り値は undefined\n",
        "%%script node\n",
        "const func = (x) => {\n",
        "    return x * 2\n",
        "}\n",
        "console.log(func(3))"
      ],
      "metadata": {
        "id": "pWOx9TLRKz-r",
        "outputId": "9961368e-2bd3-4662-83c1-aea224884c1f",
        "colab": {
          "base_uri": "https://localhost:8080/"
        }
      },
      "execution_count": null,
      "outputs": [
        {
          "output_type": "stream",
          "name": "stdout",
          "text": [
            "6\n"
          ]
        }
      ]
    },
    {
      "cell_type": "code",
      "source": [
        "# char と言うデータ型はない!!!!"
      ],
      "metadata": {
        "id": "3S72Ri3DYDNe"
      },
      "execution_count": null,
      "outputs": []
    },
    {
      "cell_type": "code",
      "source": [
        "# ECMAScript 標準では、次の 9 つの型が定義されている\n",
        "# typeof で確認できる\n",
        "# undefined\n",
        "# boolean\n",
        "# number\n",
        "# string\n",
        "# bigint\n",
        "# symbol\n",
        "# object => new Object, Array, Map, Set, WeakMap, WeakSet, Date\n",
        "# function\n",
        "# null"
      ],
      "metadata": {
        "id": "I_fqjstVL5iZ"
      },
      "execution_count": null,
      "outputs": []
    },
    {
      "cell_type": "code",
      "source": [
        "# typeof 実験\n",
        "%%script node\n",
        "console.log(typeof(undefined))\n",
        "console.log(typeof(null))\n",
        "const f = () => {return 3}\n",
        "console.log(f())\n",
        "console.log(f)"
      ],
      "metadata": {
        "colab": {
          "base_uri": "https://localhost:8080/"
        },
        "id": "eIFdCqVQ49Wz",
        "outputId": "f1333d57-ba72-443a-a0c8-01c47bf50d06"
      },
      "execution_count": null,
      "outputs": [
        {
          "output_type": "stream",
          "name": "stdout",
          "text": [
            "undefined\n",
            "object\n",
            "3\n",
            "[Function: f]\n"
          ]
        }
      ]
    },
    {
      "cell_type": "code",
      "source": [
        "# JavaScriptでCSVデータ(項目行あり)をJSON形式に変換する\n",
        "# csv2json 関数を作る\n",
        "# id も付けよう\n",
        "\n",
        "%%script node\n",
        "const originalData = `\n",
        "上の句, 下の句\n",
        "あさぼらけう \"あらわれわたる\"\n",
        "あきのたの, わがころもでは\n",
        "`\n",
        "\n",
        "const csv2json = (csvData) => {\n",
        "    let csvLines = csvData.split('\\n').filter(Boolean); // 行ごとに分割する\n",
        "    const keyNames = csvLines[0].split(/[\\n\\s\\\"\\',;.]+/); // [ '上の句', ' 下の句' ]\n",
        "    let jsonArray = [];\n",
        "    for (let i = 1; i < csvLines.length; i++) { // 0行目は見出しに使ったので1行目から\n",
        "        let a_line = new Object();\n",
        "        let csvArrayData = csvLines[i].split(/[\\n\\s\\\"\\',;.]+/); // [ 'あさぼらけ', ' あらわれわたる' ]\n",
        "        a_line['id'] = i;\n",
        "        for (let j = 0; j < keyNames.length; j++) {\n",
        "            a_line[keyNames[j]] = csvArrayData[j];\n",
        "        }\n",
        "        jsonArray.push(a_line);\n",
        "    }\n",
        "    return jsonArray;\n",
        "}\n",
        "\n",
        "const jsonArray = csv2json(originalData);\n",
        "console.log(jsonArray);"
      ],
      "metadata": {
        "colab": {
          "base_uri": "https://localhost:8080/"
        },
        "outputId": "eb588bfc-1771-4a3d-cd1f-c6464dbe4840",
        "id": "7s3Q8wNARdGd"
      },
      "execution_count": null,
      "outputs": [
        {
          "output_type": "stream",
          "name": "stdout",
          "text": [
            "[\n",
            "  { id: 1, '上の句': 'あさぼらけう', '下の句': 'あらわれわたる' },\n",
            "  { id: 2, '上の句': 'あきのたの', '下の句': 'わがころもでは' }\n",
            "]\n"
          ]
        }
      ]
    },
    {
      "cell_type": "code",
      "source": [
        "# 数値の文字列変換 String を使う\n",
        "%%script node\n",
        "let num = 123;\n",
        "console.log(typeof(num));\n",
        "console.log(typeof(String(num))) ;"
      ],
      "metadata": {
        "id": "MtC0bEwSsoYB",
        "outputId": "4266fcd1-1302-4479-ecdb-e2da97c10e7d",
        "colab": {
          "base_uri": "https://localhost:8080/"
        }
      },
      "execution_count": null,
      "outputs": [
        {
          "output_type": "stream",
          "name": "stdout",
          "text": [
            "number\n",
            "string\n"
          ]
        }
      ]
    },
    {
      "cell_type": "code",
      "source": [
        "# JavaScriptでCSVデータ(項目行あり)をJSON形式に変換する\n",
        "%%script node\n",
        "const original = `上の句, 下の句\n",
        "あさぼらけう, あらわれわたる\n",
        "あきのたの, わがころもでは`\n",
        "\n",
        "// const jsonArray = csv2json(original); を作るのが目的\n",
        "\n",
        "let lines =  original.split('\\n'); // 1行ごとに分割する\n",
        "\n",
        "// console.log(lines) // => [ '上の句, 下の句', 'あさぼらけ, あらわれわたる', 'あきのたの, わがころもでは' ]\n",
        "\n",
        "const keynames = lines[0].split(',');\n",
        "\n",
        "// console.log(keynames); // => [ '上の句', ' 下の句' ]\n",
        "\n",
        "let jsonArray = [];\n",
        "\n",
        "for (let i = 1; i < lines.length; i++) {\n",
        "    let a_line = new Object();\n",
        "    let csvArrayData = lines[i].split(',');\n",
        "    // console.log(csvArrayData) [ 'あさぼらけ', ' あらわれわたる' ]\n",
        "    for (let j = 0; j < keynames.length; j++) {\n",
        "      a_line[keynames[j]] = csvArrayData[j];\n",
        "    }\n",
        "    jsonArray.push(a_line);\n",
        "}\n",
        "console.log(jsonArray);"
      ],
      "metadata": {
        "colab": {
          "base_uri": "https://localhost:8080/"
        },
        "id": "bcgK3OtdAbuw",
        "outputId": "f2d70446-99c9-4cb7-da3b-1692d94f51fe"
      },
      "execution_count": null,
      "outputs": [
        {
          "output_type": "stream",
          "name": "stdout",
          "text": [
            "[\n",
            "  { '上の句': 'あさぼらけう', ' 下の句': ' あらわれわたる' },\n",
            "  { '上の句': 'あきのたの', ' 下の句': ' わがころもでは' }\n",
            "]\n"
          ]
        }
      ]
    },
    {
      "cell_type": "markdown",
      "source": [
        "# いまここ"
      ],
      "metadata": {
        "id": "OKFPkLoQG_Gz"
      }
    },
    {
      "cell_type": "code",
      "source": [
        "# 数あてゲーム\n",
        "%%script node\n",
        "// 数あてゲームです。 1から100までの数を当ててください。\n",
        "    <script>\n",
        "\n",
        "        let randomNumber = Math.floor(Math.random() * 100) + 1;\n",
        "\n",
        "        const guesses = document.querySelector('.guesses');\n",
        "        const lastResult = document.querySelector('.lastResult');\n",
        "        const lowOrHi = document.querySelector('.lowOrHi');\n",
        "\n",
        "        const guessSubmit = document.querySelector('.guessSubmit');\n",
        "        const guessField = document.querySelector('.guessField');\n",
        "\n",
        "        let guessCount = 1;\n",
        "        let resetButton;\n",
        "\n",
        "        function checkGuess() {\n",
        "            let userGuess = Number(guessField.value);\n",
        "            if (guessCount === 1) {\n",
        "                guesses.textContent = '前回の予想: ';\n",
        "            }\n",
        "            guesses.textContent += userGuess + ' ';\n",
        "\n",
        "            if (userGuess === randomNumber) {\n",
        "                lastResult.textContent = 'おめでとう! 正解です!';\n",
        "                lastResult.style.backgroundColor = 'green';\n",
        "                lowOrHi.textContent = '';\n",
        "                setGameOver();\n",
        "            } else if (guessCount === 10) {\n",
        "                lastResult.textContent = '!!!ゲームオーバー!!!';\n",
        "                setGameOver();\n",
        "            } else {\n",
        "                lastResult.textContent = '間違いです!';\n",
        "                lastResult.style.backgroundColor = 'red';\n",
        "                if (userGuess < randomNumber) {\n",
        "                    lowOrHi.textContent = '今の予想は小さすぎです!';\n",
        "                } else if (userGuess > randomNumber) {\n",
        "                    lowOrHi.textContent = '今の予想は大きすぎです!';\n",
        "                }\n",
        "            }\n",
        "            guessCount++;\n",
        "            guessField.value = '';\n",
        "            guessField.focus();\n",
        "        }\n",
        "        guessSubmit.addEventListener('click', checkGuess);\n",
        "\n",
        "        function setGameOver() {\n",
        "            guessField.disabled = true;\n",
        "            guessSubmit.disabled = true;\n",
        "            resetButton = document.createElement('button');\n",
        "            resetButton.textContent = '新しいゲームを始める';\n",
        "            document.body.appendChild(resetButton);\n",
        "            resetButton.addEventListener('click', resetGame);\n",
        "        }\n",
        "        function resetGame() {\n",
        "            guessCount = 1;\n",
        "\n",
        "            const resetParas = document.querySelectorAll('.resultParas p');\n",
        "            for (let i = 0; i < resetParas.length; i++) {\n",
        "                resetParas[i].textContent = '';\n",
        "            }\n",
        "\n",
        "            resetButton.parentNode.removeChild(resetButton);\n",
        "\n",
        "            guessField.disabled = false;\n",
        "            guessSubmit.disabled = false;\n",
        "            guessField.value = '';\n",
        "            guessField.focus();\n",
        "\n",
        "            lastResult.style.backgroundColor = 'white';\n",
        "\n",
        "            randomNumber = Math.floor(Math.random() * 100) + 1;\n",
        "        }\n",
        "    </script>\n",
        "</body>"
      ],
      "metadata": {
        "id": "bidrpOZ48BaV"
      },
      "execution_count": null,
      "outputs": []
    },
    {
      "cell_type": "code",
      "metadata": {
        "colab": {
          "base_uri": "https://localhost:8080/",
          "height": 219
        },
        "id": "vzKFQ42CfjM0",
        "outputId": "b54f4970-b7fa-4f05-f495-c12305e53df4"
      },
      "source": [
        "%%html\n",
        "<style>\n",
        "    html {\n",
        "        font-family: sans-serif;\n",
        "    }\n",
        "\n",
        "    body {\n",
        "        width: 50%;\n",
        "        max-width: 800px;\n",
        "        min-width: 480px;\n",
        "        margin: 0 auto;\n",
        "    }\n",
        "\n",
        "    .lastResult {\n",
        "        color: white;\n",
        "        padding: 3px;\n",
        "    }\n",
        "</style>\n",
        "\n",
        "<body>\n",
        "    <h1>Number guessing game</h1>\n",
        "\n",
        "    <p>数あてゲームです。 1から100までの数を当ててください。 10回トライできます。 予想が大きすぎるか、小さすぎるかを答えます。</p>\n",
        "\n",
        "    <div class=\"form\">\n",
        "        <label for=\"guessField\">予想を入れてください: </label>\n",
        "        <input type=\"text\" id=\"guessField\" class=\"guessField\">\n",
        "        <input type=\"submit\" value=\"入力\" class=\"guessSubmit\">\n",
        "    </div>\n",
        "\n",
        "    <div class=\"resultParas\">\n",
        "        <p class=\"guesses\"></p>\n",
        "        <p class=\"lastResult\"></p>\n",
        "        <p class=\"lowOrHi\"></p>\n",
        "    </div>\n",
        "\n",
        "    <script>\n",
        "\n",
        "        let randomNumber = Math.floor(Math.random() * 100) + 1;\n",
        "\n",
        "        const guesses = document.querySelector('.guesses');\n",
        "        const lastResult = document.querySelector('.lastResult');\n",
        "        const lowOrHi = document.querySelector('.lowOrHi');\n",
        "\n",
        "        const guessSubmit = document.querySelector('.guessSubmit');\n",
        "        const guessField = document.querySelector('.guessField');\n",
        "\n",
        "        let guessCount = 1;\n",
        "        let resetButton;\n",
        "\n",
        "        function checkGuess() {\n",
        "            let userGuess = Number(guessField.value);\n",
        "            if (guessCount === 1) {\n",
        "                guesses.textContent = '前回の予想: ';\n",
        "            }\n",
        "            guesses.textContent += userGuess + ' ';\n",
        "\n",
        "            if (userGuess === randomNumber) {\n",
        "                lastResult.textContent = 'おめでとう! 正解です!';\n",
        "                lastResult.style.backgroundColor = 'green';\n",
        "                lowOrHi.textContent = '';\n",
        "                setGameOver();\n",
        "            } else if (guessCount === 10) {\n",
        "                lastResult.textContent = '!!!ゲームオーバー!!!';\n",
        "                setGameOver();\n",
        "            } else {\n",
        "                lastResult.textContent = '間違いです!';\n",
        "                lastResult.style.backgroundColor = 'red';\n",
        "                if (userGuess < randomNumber) {\n",
        "                    lowOrHi.textContent = '今の予想は小さすぎです!';\n",
        "                } else if (userGuess > randomNumber) {\n",
        "                    lowOrHi.textContent = '今の予想は大きすぎです!';\n",
        "                }\n",
        "            }\n",
        "            guessCount++;\n",
        "            guessField.value = '';\n",
        "            guessField.focus();\n",
        "        }\n",
        "        guessSubmit.addEventListener('click', checkGuess);\n",
        "\n",
        "        function setGameOver() {\n",
        "            guessField.disabled = true;\n",
        "            guessSubmit.disabled = true;\n",
        "            resetButton = document.createElement('button');\n",
        "            resetButton.textContent = '新しいゲームを始める';\n",
        "            document.body.appendChild(resetButton);\n",
        "            resetButton.addEventListener('click', resetGame);\n",
        "        }\n",
        "        function resetGame() {\n",
        "            guessCount = 1;\n",
        "\n",
        "            const resetParas = document.querySelectorAll('.resultParas p');\n",
        "            for (let i = 0; i < resetParas.length; i++) {\n",
        "                resetParas[i].textContent = '';\n",
        "            }\n",
        "\n",
        "            resetButton.parentNode.removeChild(resetButton);\n",
        "\n",
        "            guessField.disabled = false;\n",
        "            guessSubmit.disabled = false;\n",
        "            guessField.value = '';\n",
        "            guessField.focus();\n",
        "\n",
        "            lastResult.style.backgroundColor = 'white';\n",
        "\n",
        "            randomNumber = Math.floor(Math.random() * 100) + 1;\n",
        "        }\n",
        "    </script>\n",
        "</body>"
      ],
      "execution_count": null,
      "outputs": [
        {
          "output_type": "display_data",
          "data": {
            "text/html": [
              "<style>\n",
              "    html {\n",
              "        font-family: sans-serif;\n",
              "    }\n",
              "\n",
              "    body {\n",
              "        width: 50%;\n",
              "        max-width: 800px;\n",
              "        min-width: 480px;\n",
              "        margin: 0 auto;\n",
              "    }\n",
              "\n",
              "    .lastResult {\n",
              "        color: white;\n",
              "        padding: 3px;\n",
              "    }\n",
              "</style>\n",
              "\n",
              "<body>\n",
              "    <h1>Number guessing game</h1>\n",
              "\n",
              "    <p>数あてゲームです。 1から100までの数を当ててください。 10回トライできます。 予想が大きすぎるか、小さすぎるかを答えます。\n",
              "\n",
              "</p>\n",
              "\n",
              "    <div class=\"form\">\n",
              "        <label for=\"guessField\">予想を入れてください: </label>\n",
              "        <input type=\"text\" id=\"guessField\" class=\"guessField\">\n",
              "        <input type=\"submit\" value=\"入力\" class=\"guessSubmit\">\n",
              "    </div>\n",
              "\n",
              "    <div class=\"resultParas\">\n",
              "        <p class=\"guesses\"></p>\n",
              "        <p class=\"lastResult\"></p>\n",
              "        <p class=\"lowOrHi\"></p>\n",
              "    </div>\n",
              "\n",
              "    <script>\n",
              "\n",
              "        let randomNumber = Math.floor(Math.random() * 100) + 1;\n",
              "\n",
              "        const guesses = document.querySelector('.guesses');\n",
              "        const lastResult = document.querySelector('.lastResult');\n",
              "        const lowOrHi = document.querySelector('.lowOrHi');\n",
              "\n",
              "        const guessSubmit = document.querySelector('.guessSubmit');\n",
              "        const guessField = document.querySelector('.guessField');\n",
              "\n",
              "        let guessCount = 1;\n",
              "        let resetButton;\n",
              "\n",
              "        function checkGuess() {\n",
              "            let userGuess = Number(guessField.value);\n",
              "            if (guessCount === 1) {\n",
              "                guesses.textContent = '前回の予想: ';\n",
              "            }\n",
              "            guesses.textContent += userGuess + ' ';\n",
              "\n",
              "            if (userGuess === randomNumber) {\n",
              "                lastResult.textContent = 'おめでとう! 正解です!';\n",
              "                lastResult.style.backgroundColor = 'green';\n",
              "                lowOrHi.textContent = '';\n",
              "                setGameOver();\n",
              "            } else if (guessCount === 10) {\n",
              "                lastResult.textContent = '!!!ゲームオーバー!!!';\n",
              "                setGameOver();\n",
              "            } else {\n",
              "                lastResult.textContent = '間違いです!';\n",
              "                lastResult.style.backgroundColor = 'red';\n",
              "                if (userGuess < randomNumber) {\n",
              "                    lowOrHi.textContent = '今の予想は小さすぎです!';\n",
              "                } else if (userGuess > randomNumber) {\n",
              "                    lowOrHi.textContent = '今の予想は大きすぎです!';\n",
              "                }\n",
              "            }\n",
              "            guessCount++;\n",
              "            guessField.value = '';\n",
              "            guessField.focus();\n",
              "        }\n",
              "        guessSubmit.addEventListener('click', checkGuess);\n",
              "\n",
              "        function setGameOver() {\n",
              "            guessField.disabled = true;\n",
              "            guessSubmit.disabled = true;\n",
              "            resetButton = document.createElement('button');\n",
              "            resetButton.textContent = '新しいゲームを始める';\n",
              "            document.body.appendChild(resetButton);\n",
              "            resetButton.addEventListener('click', resetGame);\n",
              "        }\n",
              "        function resetGame() {\n",
              "            guessCount = 1;\n",
              "\n",
              "            const resetParas = document.querySelectorAll('.resultParas p');\n",
              "            for (let i = 0; i < resetParas.length; i++) {\n",
              "                resetParas[i].textContent = '';\n",
              "            }\n",
              "\n",
              "            resetButton.parentNode.removeChild(resetButton);\n",
              "\n",
              "            guessField.disabled = false;\n",
              "            guessSubmit.disabled = false;\n",
              "            guessField.value = '';\n",
              "            guessField.focus();\n",
              "\n",
              "            lastResult.style.backgroundColor = 'white';\n",
              "\n",
              "            randomNumber = Math.floor(Math.random() * 100) + 1;\n",
              "        }\n",
              "    </script>\n",
              "</body>"
            ],
            "text/plain": [
              "<IPython.core.display.HTML object>"
            ]
          },
          "metadata": {
            "tags": []
          }
        }
      ]
    },
    {
      "cell_type": "code",
      "metadata": {
        "id": "2b0J8k5m9HWF",
        "colab": {
          "base_uri": "https://localhost:8080/",
          "height": 46
        },
        "outputId": "e54d3574-e339-4db6-b699-44eccf47cd1f"
      },
      "source": [
        "# 実験\n",
        "%%html\n",
        "<p></p>\n",
        "<script>\n",
        "let randomNumber = Math.floor(Math.random() * 100) + 1;\n",
        "document.querySelector('p').appendChild(document.createTextNode(randomNumber));\n",
        "</script>"
      ],
      "execution_count": null,
      "outputs": [
        {
          "output_type": "display_data",
          "data": {
            "text/html": [
              "<p></p>\n",
              "<script>\n",
              "let randomNumber = Math.floor(Math.random() * 100) + 1;\n",
              "document.querySelector('p').appendChild(document.createTextNode(randomNumber));\n",
              "</script>"
            ],
            "text/plain": [
              "<IPython.core.display.HTML object>"
            ]
          },
          "metadata": {
            "tags": []
          }
        }
      ]
    },
    {
      "cell_type": "code",
      "metadata": {
        "colab": {
          "base_uri": "https://localhost:8080/",
          "height": 46
        },
        "id": "tHlzuinyo4xL",
        "outputId": "43865bec-3ad8-43e6-dece-e30ac9b23192"
      },
      "source": [
        "# 実験\n",
        "%%html\n",
        "<p></p>\n",
        "<script>\n",
        "    let randomNumber = Math.floor(Math.random() * 100) + 1;\n",
        "    // const randomnumber = document.querySelector('p');\n",
        "    // randomnumber.textContent = randomNumber;\n",
        "    document.querySelector('p').textContent = randomNumber;\n",
        "</script>"
      ],
      "execution_count": null,
      "outputs": [
        {
          "output_type": "display_data",
          "data": {
            "text/html": [
              "<p></p>\n",
              "<script>\n",
              "    let randomNumber = Math.floor(Math.random() * 100) + 1;\n",
              "    // const randomnumber = document.querySelector('p');\n",
              "    // randomnumber.textContent = randomNumber;\n",
              "    document.querySelector('p').textContent = randomNumber;\n",
              "</script>"
            ],
            "text/plain": [
              "<IPython.core.display.HTML object>"
            ]
          },
          "metadata": {
            "tags": []
          }
        }
      ]
    },
    {
      "cell_type": "code",
      "metadata": {
        "colab": {
          "base_uri": "https://localhost:8080/",
          "height": 59
        },
        "id": "bsZjjagqqWbj",
        "outputId": "e6e47401-3688-476b-9ad9-73ff9f05d7be"
      },
      "source": [
        "# 実験\n",
        "%%html\n",
        "<button>ボタン実験</button>\n",
        "<div class=\"resultParas\">  :   </div>\n",
        "\n",
        "<script>\n",
        "    const resultParas = document.querySelector('.resultParas');\n",
        "    const button = document.querySelector('button');\n",
        "\n",
        "    function addParas() {\n",
        "        let randomNumber = Math.floor(Math.random() * 100) + 1;\n",
        "        resultParas.textContent += randomNumber + ' ';\n",
        "    }\n",
        "\n",
        "    button.addEventListener('click', addParas);\n",
        "</script>"
      ],
      "execution_count": null,
      "outputs": [
        {
          "output_type": "display_data",
          "data": {
            "text/html": [
              "<button>ボタン実験</button>\n",
              "<div class=\"resultParas\">  :   </div>\n",
              "\n",
              "<script>\n",
              "    const resultParas = document.querySelector('.resultParas');\n",
              "    const button = document.querySelector('button');\n",
              "\n",
              "    function addParas() {\n",
              "        let randomNumber = Math.floor(Math.random() * 100) + 1;\n",
              "        resultParas.textContent += randomNumber + ' ';\n",
              "    }\n",
              "\n",
              "    button.addEventListener('click', addParas);\n",
              "</script>"
            ],
            "text/plain": [
              "<IPython.core.display.HTML object>"
            ]
          },
          "metadata": {
            "tags": []
          }
        }
      ]
    },
    {
      "cell_type": "markdown",
      "metadata": {
        "id": "9Uy5HzVoSCoG"
      },
      "source": [
        "# 四則演算\n",
        "\n",
        "加算減算乗算除算は普通。10/3 も普通に float になる。\n",
        "\n",
        "python の `//` に当たるのは `Math.floor()` かな。\n",
        "\n",
        "冪乗は `**` で Python と同じ!!!!"
      ]
    },
    {
      "cell_type": "code",
      "metadata": {
        "id": "g34dIsYgRVAb",
        "colab": {
          "base_uri": "https://localhost:8080/",
          "height": 168
        },
        "outputId": "a0b5fa2d-2d33-47b4-9851-45e8fb9ba18a"
      },
      "source": [
        "%%html\n",
        "<script>\n",
        "\n",
        "    document.body.style = \"white-space: pre;\";\n",
        "\n",
        "    document.querySelector(\"#output-area\").appendChild(document.createTextNode(10 / 3));\n",
        "    document.querySelector(\"#output-area\").appendChild(document.createTextNode(\"\\n\"));\n",
        "    document.querySelector(\"#output-area\").appendChild(document.createTextNode(10 % 3));\n",
        "    document.querySelector(\"#output-area\").appendChild(document.createTextNode(\"\\n\"));\n",
        "    document.querySelector(\"#output-area\").appendChild(document.createTextNode(Math.floor(-10 / 3)));\n",
        "    document.querySelector(\"#output-area\").appendChild(document.createTextNode(\"\\n\"));\n",
        "    document.querySelector(\"#output-area\").appendChild(document.createTextNode(\"晴れ\" * 3));\n",
        "    document.querySelector(\"#output-area\").appendChild(document.createTextNode(\"\\n\"));\n",
        "    document.querySelector(\"#output-area\").appendChild(document.createTextNode(\"晴れ\" + \"雨\"));\n",
        "    document.querySelector(\"#output-area\").appendChild(document.createTextNode(\"\\n\"));\n",
        "    document.querySelector(\"#output-area\").appendChild(document.createTextNode(\"晴れ\" == \"晴れ\"));\n",
        "    document.querySelector(\"#output-area\").appendChild(document.createTextNode(\"\\n\"));\n",
        "    document.querySelector(\"#output-area\").appendChild(document.createTextNode(10 ** 3));\n",
        "    document.querySelector(\"#output-area\").appendChild(document.createTextNode(\"\\n\"));\n",
        "    document.querySelector(\"#output-area\").appendChild(document.createTextNode(Math.pow(10, 3)));\n",
        "    document.querySelector(\"#output-area\").appendChild(document.createTextNode(\"\\n\"));\n",
        "</script>"
      ],
      "execution_count": null,
      "outputs": [
        {
          "output_type": "display_data",
          "data": {
            "text/html": [
              "<script>\n",
              "\n",
              "    document.body.style = \"white-space: pre;\";\n",
              "\n",
              "    document.querySelector(\"#output-area\").appendChild(document.createTextNode(10 / 3));\n",
              "    document.querySelector(\"#output-area\").appendChild(document.createTextNode(\"\\n\"));\n",
              "    document.querySelector(\"#output-area\").appendChild(document.createTextNode(10 % 3));\n",
              "    document.querySelector(\"#output-area\").appendChild(document.createTextNode(\"\\n\"));\n",
              "    document.querySelector(\"#output-area\").appendChild(document.createTextNode(Math.floor(-10 / 3)));\n",
              "    document.querySelector(\"#output-area\").appendChild(document.createTextNode(\"\\n\"));\n",
              "    document.querySelector(\"#output-area\").appendChild(document.createTextNode(\"晴れ\" * 3));\n",
              "    document.querySelector(\"#output-area\").appendChild(document.createTextNode(\"\\n\"));\n",
              "    document.querySelector(\"#output-area\").appendChild(document.createTextNode(\"晴れ\" + \"雨\"));\n",
              "    document.querySelector(\"#output-area\").appendChild(document.createTextNode(\"\\n\"));\n",
              "    document.querySelector(\"#output-area\").appendChild(document.createTextNode(\"晴れ\" == \"晴れ\"));\n",
              "    document.querySelector(\"#output-area\").appendChild(document.createTextNode(\"\\n\"));\n",
              "    document.querySelector(\"#output-area\").appendChild(document.createTextNode(10 ** 3));\n",
              "    document.querySelector(\"#output-area\").appendChild(document.createTextNode(\"\\n\"));\n",
              "    document.querySelector(\"#output-area\").appendChild(document.createTextNode(Math.pow(10, 3)));\n",
              "    document.querySelector(\"#output-area\").appendChild(document.createTextNode(\"\\n\"));\n",
              "</script>"
            ],
            "text/plain": [
              "<IPython.core.display.HTML object>"
            ]
          },
          "metadata": {
            "tags": []
          }
        }
      ]
    },
    {
      "cell_type": "code",
      "metadata": {
        "id": "VINAX7kf7jCa",
        "colab": {
          "base_uri": "https://localhost:8080/",
          "height": 206
        },
        "outputId": "38555aa7-f884-4cc0-8993-198310dc5163"
      },
      "source": [
        "# 実験\n",
        "%%html\n",
        "<script>\n",
        "    function addPara(item) {\n",
        "        let para = document.createElement('p');\n",
        "        para.textContent = item;\n",
        "        document.body.appendChild(para);\n",
        "    }\n",
        "\n",
        "   addPara(10 / 3);\n",
        "   addPara(10 % 3);\n",
        "   addPara(Math.floor(-10 / 3));\n",
        "   addPara(\"晴れ\" * 3);\n",
        "   addPara(\"晴れ\" + \"雨\");\n",
        "   addPara(\"晴れ\" == \"晴れ\");\n",
        "   addPara(10 ** 3);\n",
        "   addPara(Math.pow(10, 3));\n",
        "</script>"
      ],
      "execution_count": null,
      "outputs": [
        {
          "output_type": "display_data",
          "data": {
            "text/html": [
              "<script>\n",
              "    function addPara(item) {\n",
              "        let para = document.createElement('p');\n",
              "        para.textContent = item;\n",
              "        document.body.appendChild(para);\n",
              "    }\n",
              "\n",
              "   addPara(10 / 3);\n",
              "   addPara(10 % 3);\n",
              "   addPara(Math.floor(-10 / 3));\n",
              "   addPara(\"晴れ\" * 3);\n",
              "   addPara(\"晴れ\" + \"雨\");\n",
              "   addPara(\"晴れ\" == \"晴れ\");\n",
              "   addPara(10 ** 3);\n",
              "   addPara(Math.pow(10, 3));\n",
              "</script>"
            ],
            "text/plain": [
              "<IPython.core.display.HTML object>"
            ]
          },
          "metadata": {
            "tags": []
          }
        }
      ]
    },
    {
      "cell_type": "markdown",
      "metadata": {
        "id": "zhbUQ5NlKE66"
      },
      "source": [
        "# if (){} else {}"
      ]
    },
    {
      "cell_type": "code",
      "metadata": {
        "id": "TV6kQEpTr1dc",
        "colab": {
          "base_uri": "https://localhost:8080/",
          "height": 34
        },
        "outputId": "ac300817-413c-4302-9e7a-5b363d7e7d1d"
      },
      "source": [
        "%%html\n",
        "<script>\n",
        "\n",
        "    function checkGuess(answer, guess, count) {\n",
        "        count = count + 1;\n",
        "        if (answer == guess) {\n",
        "            return \"hit!!!!\";\n",
        "        } else {\n",
        "            return \"wrong!!!!\";\n",
        "        }\n",
        "    };\n",
        "\n",
        "    document.querySelector(\"#output-area\").appendChild(document.createTextNode(checkGuess(3, 2, 1)));\n",
        "</script>"
      ],
      "execution_count": null,
      "outputs": [
        {
          "output_type": "display_data",
          "data": {
            "text/html": [
              "<script>\n",
              "\n",
              "    function checkGuess(answer, guess, count) {\n",
              "        count = count + 1;\n",
              "        if (answer == guess) {\n",
              "            return \"hit!!!!\";\n",
              "        } else {\n",
              "            return \"wrong!!!!\";\n",
              "        }\n",
              "    };\n",
              "\n",
              "    document.querySelector(\"#output-area\").appendChild(document.createTextNode(checkGuess(3, 2, 1)));\n",
              "</script>"
            ],
            "text/plain": [
              "<IPython.core.display.HTML object>"
            ]
          },
          "metadata": {
            "tags": []
          }
        }
      ]
    },
    {
      "cell_type": "markdown",
      "metadata": {
        "id": "xi5y8ZoHtVID"
      },
      "source": [
        "# 文字列\n",
        "文字列の結合に `+` が使える。文字列の繰り返しに `*` は使えない。\n"
      ]
    },
    {
      "cell_type": "markdown",
      "metadata": {
        "id": "EJ9wkkuqKURV"
      },
      "source": [
        "# 真偽値"
      ]
    },
    {
      "cell_type": "code",
      "metadata": {
        "id": "CIwS8zGNtqme",
        "colab": {
          "base_uri": "https://localhost:8080/",
          "height": 91
        },
        "outputId": "de8af899-3b9e-4b27-85c8-fc25e2ca9740"
      },
      "source": [
        "%%html\n",
        "<script>\n",
        "    function addPara(item) {\n",
        "        let para = document.createElement('p');\n",
        "        para.textContent = item;\n",
        "        document.body.appendChild(para);\n",
        "    }\n",
        "\n",
        "    addPara(3 == '3');\n",
        "    addPara(3 === '3');\n",
        "    addPara(3 === 3);\n",
        "</script>\n",
        "</script>"
      ],
      "execution_count": null,
      "outputs": [
        {
          "output_type": "display_data",
          "data": {
            "text/html": [
              "<script>\n",
              "    function addPara(item) {\n",
              "        let para = document.createElement('p');\n",
              "        para.textContent = item;\n",
              "        document.body.appendChild(para);\n",
              "    }\n",
              "\n",
              "    addPara(3 == '3');\n",
              "    addPara(3 === '3');\n",
              "    addPara(3 === 3);\n",
              "</script>\n",
              "</script>"
            ],
            "text/plain": [
              "<IPython.core.display.HTML object>"
            ]
          },
          "metadata": {
            "tags": []
          }
        }
      ]
    },
    {
      "cell_type": "markdown",
      "metadata": {
        "id": "NHZJIdEUuRQk"
      },
      "source": [
        "同等かどうか調べるのに比較演算子が2種類ある、`==` と `===` 。\n",
        "\n",
        "型の確認もしてくれるように、`===` と `!==` を使うように、と MDN は言っている。"
      ]
    },
    {
      "cell_type": "markdown",
      "metadata": {
        "id": "rR5jvtDhvV6e"
      },
      "source": [
        "オブジェクトについて。実験。"
      ]
    },
    {
      "cell_type": "code",
      "metadata": {
        "id": "8xkt7_6Evanq",
        "colab": {
          "base_uri": "https://localhost:8080/",
          "height": 84
        },
        "outputId": "9ba44efa-470a-421e-a2f7-e28bf3920cec"
      },
      "source": [
        "%%html\n",
        "<script>\n",
        "    document.body.style = \"white-space: pre;\";\n",
        "\n",
        "    outputField = document.querySelector(\"#output-area\");\n",
        "\n",
        "    outputField.value = \"Hello!!!!\";\n",
        "\n",
        "    outputField.appendChild(document.createTextNode(outputField.value));\n",
        "    outputField.appendChild(document.createTextNode(\"\\n\"));\n",
        "    outputField.appendChild(document.createTextNode(\"\\n\"));\n",
        "    outputField.appendChild(document.createTextNode(outputField.value));\n",
        "\n",
        "</script>"
      ],
      "execution_count": null,
      "outputs": [
        {
          "output_type": "display_data",
          "data": {
            "text/html": [
              "<script>\n",
              "    document.body.style = \"white-space: pre;\";\n",
              "\n",
              "    outputField = document.querySelector(\"#output-area\");\n",
              "\n",
              "    outputField.value = \"Hello!!!!\";\n",
              "\n",
              "    outputField.appendChild(document.createTextNode(outputField.value));\n",
              "    outputField.appendChild(document.createTextNode(\"\\n\"));\n",
              "    outputField.appendChild(document.createTextNode(\"\\n\"));\n",
              "    outputField.appendChild(document.createTextNode(outputField.value));\n",
              "\n",
              "</script>"
            ],
            "text/plain": [
              "<IPython.core.display.HTML object>"
            ]
          },
          "metadata": {
            "tags": []
          }
        }
      ]
    },
    {
      "cell_type": "code",
      "metadata": {
        "colab": {
          "base_uri": "https://localhost:8080/",
          "height": 91
        },
        "id": "MNnPFMAQfhJ8",
        "outputId": "cec6fb25-be9a-49d6-bf67-cf708a8b1993"
      },
      "source": [
        "%%html\n",
        "<script>\n",
        "//    document.body.style = \"white-space: pre;\";\n",
        "//\n",
        "//    outputField = document.querySelector(\"#output-area\");\n",
        "//\n",
        "//    outputField.value = \"Hello!!!!\";\n",
        "//\n",
        "//    outputField.appendChild(document.createTextNode(outputField.value));\n",
        "//    outputField.appendChild(document.createTextNode(\"\\n\"));\n",
        "//    outputField.appendChild(document.createTextNode(outputField.value));\n",
        "\n",
        "    function addPara(item) {\n",
        "        let para = document.createElement('p');\n",
        "        para.textContent = item;\n",
        "        document.body.appendChild(para);\n",
        "    }\n",
        "\n",
        "    addPara(3 == '3');\n",
        "    addPara(3 === '3');\n",
        "    addPara(3 === 3);\n",
        "</script>"
      ],
      "execution_count": null,
      "outputs": [
        {
          "output_type": "display_data",
          "data": {
            "text/html": [
              "<script>\n",
              "//    document.body.style = \"white-space: pre;\";\n",
              "//\n",
              "//    outputField = document.querySelector(\"#output-area\");\n",
              "//\n",
              "//    outputField.value = \"Hello!!!!\";\n",
              "//\n",
              "//    outputField.appendChild(document.createTextNode(outputField.value));\n",
              "//    outputField.appendChild(document.createTextNode(\"\\n\"));\n",
              "//    outputField.appendChild(document.createTextNode(outputField.value));\n",
              "\n",
              "    function addPara(item) {\n",
              "        let para = document.createElement('p');\n",
              "        para.textContent = item;\n",
              "        document.body.appendChild(para);\n",
              "    }\n",
              "\n",
              "    addPara(3 == '3');\n",
              "    addPara(3 === '3');\n",
              "    addPara(3 === 3);\n",
              "</script>"
            ],
            "text/plain": [
              "<IPython.core.display.HTML object>"
            ]
          },
          "metadata": {
            "tags": []
          }
        }
      ]
    },
    {
      "cell_type": "markdown",
      "metadata": {
        "id": "5Ts6rFfgCIEV"
      },
      "source": [
        "# 変数\n",
        "変数に値を格納する。変数は `let` で宣言する。宣言されていない変数はエラーとなる。\n",
        "\n",
        "変数の宣言にかつては `var` が使われて、いまも使えるが使わないこと。なぜなら `var` は同じ変数を2回宣言できてしまうから。\n",
        "\n",
        "正しくは、\n",
        "> let myName = 'Chris';  \n",
        "> myName = 'Bob';\n",
        "とする。\n"
      ]
    },
    {
      "cell_type": "code",
      "metadata": {
        "colab": {
          "base_uri": "https://localhost:8080/",
          "height": 46
        },
        "id": "PdsOhlgCOU6A",
        "outputId": "d26b5abf-20b1-46d6-982e-e3ef24e9ac9a"
      },
      "source": [
        "%%html\n",
        "<script>\n",
        "    'use strict';\n",
        "    let myName;\n",
        "    let myAge = 15;\n",
        "\n",
        "    addPara(myName);  // <= 変数が undefind でも html はエラーは吐かずに素通りする\n",
        "    // addPara(scoobyDoo); // <= 変数自体がないと、裏でエラーになってその行以降が実行されない。 => デベロッパーツールを使う。\n",
        "    addPara(myAge);\n",
        "\n",
        "    function addPara(item) {\n",
        "        let para = document.createElement('p');\n",
        "        para.textContent = item;\n",
        "        document.body.appendChild(para);\n",
        "    }\n",
        "\n",
        "</script>"
      ],
      "execution_count": null,
      "outputs": [
        {
          "output_type": "display_data",
          "data": {
            "text/html": [
              "<script>\n",
              "    'use strict';\n",
              "    let myName;\n",
              "    let myAge = 15;\n",
              "\n",
              "    addPara(myName);  // <= 変数が undefind でも html はエラーは吐かずに素通りする\n",
              "    // addPara(scoobyDoo); // <= 変数自体がないと、裏でエラーになってその行以降が実行されない。 これは困るね。\n",
              "    addPara(myAge);\n",
              "\n",
              "    function addPara(item) {\n",
              "        let para = document.createElement('p');\n",
              "        para.textContent = item;\n",
              "        document.body.appendChild(para);\n",
              "    }\n",
              "\n",
              "</script>"
            ],
            "text/plain": [
              "<IPython.core.display.HTML object>"
            ]
          },
          "metadata": {
            "tags": []
          }
        }
      ]
    },
    {
      "cell_type": "markdown",
      "metadata": {
        "id": "U36GT157D0HL"
      },
      "source": [
        "デベロッパーツールのコンソールに `scoobyDo iｓ undefined` と出ている。同じ庵でファインドでみ意味が違うね。"
      ]
    },
    {
      "cell_type": "markdown",
      "metadata": {
        "id": "MHK1dlhuLETy"
      },
      "source": [
        "定数の宣言には `const` を使う。`const` で宣言された定数は変更できない。"
      ]
    },
    {
      "cell_type": "markdown",
      "metadata": {
        "id": "l6QNDuM2Hf7f"
      },
      "source": [
        "# 配列\n",
        "配列にデータ型を混在できるか。"
      ]
    },
    {
      "cell_type": "code",
      "metadata": {
        "id": "Q-MXCqgvHntd",
        "colab": {
          "base_uri": "https://localhost:8080/",
          "height": 69
        },
        "outputId": "53b88a33-20c4-4e88-8245-8d87767615be"
      },
      "source": [
        "# 配列 array に型は混在できる\n",
        "%%html\n",
        "<script>\n",
        "    let myNameArray = ['Chris', 'Bob', 'Jim', 37];\n",
        "    let myNumberArray = [10, 15, 40];\n",
        "\n",
        "    let myName = myNameArray[0];\n",
        "    let myAge = myNameArray[3];\n",
        "\n",
        "    function addPara(item) {\n",
        "        let para = document.createElement('p');\n",
        "        para.textContent = item;\n",
        "        document.body.appendChild(para);\n",
        "    }\n",
        "    addPara(myName);\n",
        "    addPara(myAge);\n",
        "</script>\n"
      ],
      "execution_count": null,
      "outputs": [
        {
          "output_type": "display_data",
          "data": {
            "text/html": [
              "<script>\n",
              "    let myNameArray = ['Chris', 'Bob', 'Jim', 37];\n",
              "    let myNumberArray = [10, 15, 40];\n",
              "    \n",
              "    let myName = myNameArray[0];\n",
              "    let myAge = myNameArray[3];\n",
              "\n",
              "    function addPara(item) {\n",
              "        let para = document.createElement('p');\n",
              "        para.textContent = item;\n",
              "        document.body.appendChild(para);\n",
              "    }\n",
              "    addPara(myName);\n",
              "    addPara(myAge);\n",
              "</script>"
            ],
            "text/plain": [
              "<IPython.core.display.HTML object>"
            ]
          },
          "metadata": {
            "tags": []
          }
        }
      ]
    },
    {
      "cell_type": "code",
      "metadata": {
        "id": "lkJakMjHJlfu",
        "colab": {
          "base_uri": "https://localhost:8080/"
        },
        "outputId": "3867d987-a614-406e-ad39-10332b930da7"
      },
      "source": [
        "%%script node\n",
        "const months = ['Jan', 'March', 'April', 'June'];\n",
        "months.splice(1, 0, 'Feb'); // inserts at index 1\n",
        "console.log(months); // expected output: Array [\"Jan\", \"Feb\", \"March\", \"April\", \"June\"]\n",
        "months.splice(4, 1, 'May'); // replaces 1 element at index 4\n",
        "console.log(months); // expected output: Array [\"Jan\", \"Feb\", \"March\", \"April\", \"May\"]"
      ],
      "execution_count": null,
      "outputs": [
        {
          "output_type": "stream",
          "text": [
            "[ 'Jan', 'Feb', 'March', 'April', 'June' ]\n",
            "[ 'Jan', 'Feb', 'March', 'April', 'May' ]\n"
          ],
          "name": "stdout"
        }
      ]
    },
    {
      "cell_type": "code",
      "metadata": {
        "id": "Gh_XIzVG-I3i",
        "colab": {
          "base_uri": "https://localhost:8080/"
        },
        "outputId": "89dd3a95-7990-45fa-b4d7-294debb80a18"
      },
      "source": [
        "%%script node\n",
        "let x = Array(3);\n",
        "for (let i = 0; i < x.length; i++) {\n",
        "  x[i] =  Array(2);\n",
        "}\n",
        "for (let i=0; i< x.length; i++) {\n",
        "    for (let j= 0; j < (x[i]).length; j++) {\n",
        "        x[i][j] = 0;\n",
        "    }\n",
        "}\n",
        "console.log(x);"
      ],
      "execution_count": null,
      "outputs": [
        {
          "output_type": "stream",
          "text": [
            "[ [ 0, 0 ], [ 0, 0 ], [ 0, 0 ] ]\n"
          ],
          "name": "stdout"
        }
      ]
    },
    {
      "cell_type": "code",
      "metadata": {
        "id": "ju8-mzQDAOaw",
        "colab": {
          "base_uri": "https://localhost:8080/"
        },
        "outputId": "8590b3ff-5c23-4953-bf84-1a1d1474ad42"
      },
      "source": [
        "%%script node\n",
        "a = Array(3).fill(0).map(x => Array(2).fill(0))\n",
        "console.log(a)"
      ],
      "execution_count": null,
      "outputs": [
        {
          "output_type": "stream",
          "text": [
            "[ [ 0, 0 ], [ 0, 0 ], [ 0, 0 ] ]\n"
          ],
          "name": "stdout"
        }
      ]
    },
    {
      "cell_type": "markdown",
      "metadata": {
        "id": "qaGaLLw7IXG6"
      },
      "source": [
        "# オブジェクト\n",
        "\n",
        "let dog = { name : 'ポチ', breed : 'ダルメシアン' };\n",
        "\n",
        "って、これ Python で言う辞書、連想配列 association array, hash, Elm なら record のことだよね。オブジェクトとはこれまた。\n",
        "\n",
        "`typeof()` というので型を調べられるらしいのでホントにオブジェクトというのか確認する。"
      ]
    },
    {
      "cell_type": "code",
      "metadata": {
        "id": "KDf1K4zbO-jc",
        "colab": {
          "base_uri": "https://localhost:8080/",
          "height": 91
        },
        "outputId": "509b1320-a208-4d65-ed9f-10e518aeda45"
      },
      "source": [
        "# typeof の使い方\n",
        "%%html\n",
        "<script>\n",
        "    let myNameArray = ['Chris', 'Bob', 'Jim', 37];\n",
        "    let myNumberArray = [10, 15, 40];\n",
        "    let myAge = myNameArray[3];\n",
        "    let dog = { name: 'ポチ', breed: 'ダルメシアン' };\n",
        "\n",
        "    function addPara(item) {\n",
        "        let para = document.createElement('p');\n",
        "        para.textContent = item;\n",
        "        document.body.appendChild(para);\n",
        "    }\n",
        "\n",
        "    addPara(typeof (myAge));\n",
        "    addPara(typeof (myNameArray));\n",
        "    addPara(typeof (dog));\n",
        "</script>"
      ],
      "execution_count": null,
      "outputs": [
        {
          "output_type": "display_data",
          "data": {
            "text/html": [
              "<script>\n",
              "    let myNameArray = ['Chris', 'Bob', 'Jim', 37];\n",
              "    let myNumberArray = [10, 15, 40];\n",
              "    let myAge = myNameArray[3];\n",
              "    let dog = { name: 'ポチ', breed: 'ダルメシアン' };\n",
              "\n",
              "    function addPara(item) {\n",
              "        let para = document.createElement('p');\n",
              "        para.textContent = item;\n",
              "        document.body.appendChild(para);\n",
              "    }\n",
              "\n",
              "    addPara(typeof (myAge));\n",
              "    addPara(typeof (myNameArray));\n",
              "    addPara(typeof (dog));\n",
              "</script>"
            ],
            "text/plain": [
              "<IPython.core.display.HTML object>"
            ]
          },
          "metadata": {
            "tags": []
          }
        }
      ]
    },
    {
      "cell_type": "markdown",
      "metadata": {
        "id": "UKANZ_CyP5YG"
      },
      "source": [
        "数字は `number` でしかなくて、配列も連想配列も `object` だ!!!\n",
        "\n",
        "ということは整数と浮動小数点数の区別がなくて、リストと配列と連想配列も `typeof` で見る限りは区別がない。"
      ]
    },
    {
      "cell_type": "markdown",
      "metadata": {
        "id": "Uq7GAzDgQY2Y"
      },
      "source": [
        "# みんな数学が大好き\n"
      ]
    },
    {
      "cell_type": "markdown",
      "source": [],
      "metadata": {
        "id": "mMZQ8mAzjGRy"
      }
    },
    {
      "cell_type": "markdown",
      "metadata": {
        "id": "uwK9lmu8dKv_"
      },
      "source": [
        "# インクリメント・デクリメント"
      ]
    },
    {
      "cell_type": "code",
      "metadata": {
        "id": "CmToiAJndLiS",
        "colab": {
          "base_uri": "https://localhost:8080/",
          "height": 160
        },
        "outputId": "34f3b6b1-41a1-4701-eefd-015634a533ab"
      },
      "source": [
        "%%html\n",
        "<script>\n",
        "    let num = 3\n",
        "\n",
        "    function addPara(item) {\n",
        "        let para = document.createElement('p');\n",
        "        para.textContent = item;\n",
        "        document.body.appendChild(para);\n",
        "    }\n",
        "    addPara(num);\n",
        "    addPara(num++);\n",
        "    addPara(num--);\n",
        "    addPara(num);\n",
        "    addPara(--num);\n",
        "    addPara(num);\n",
        "</script>"
      ],
      "execution_count": null,
      "outputs": [
        {
          "output_type": "display_data",
          "data": {
            "text/html": [
              "<script>\n",
              "    let num = 3\n",
              "\n",
              "    function addPara(item) {\n",
              "        let para = document.createElement('p');\n",
              "        para.textContent = item;\n",
              "        document.body.appendChild(para);\n",
              "    }\n",
              "    addPara(num);\n",
              "    addPara(num++);\n",
              "    addPara(num--);\n",
              "    addPara(num);\n",
              "    addPara(--num);\n",
              "    addPara(num);\n",
              "</script>"
            ],
            "text/plain": [
              "<IPython.core.display.HTML object>"
            ]
          },
          "metadata": {
            "tags": []
          }
        }
      ]
    },
    {
      "cell_type": "markdown",
      "metadata": {
        "id": "poUWlVLIfxNt"
      },
      "source": [
        "# 文字列、数値変換\n",
        "\n",
        "`Number()`、`String()`、`toString()`とか。\n",
        "\n",
        "演算子で '19' + '67' とかすると、文字列になる。\n",
        "\n"
      ]
    },
    {
      "cell_type": "markdown",
      "metadata": {
        "id": "EjXkO3rp8Bm2"
      },
      "source": [
        "### 文字列の長さを調べる\n",
        "\n",
        "`length` プロパティを使う。プロパティ? オブジェクトはメソッドとプロパティを持つのか。なるほど。\n",
        "\n",
        "### 最後の文字を取得する\n",
        "\n",
        "`aString[aString.length - 1]` だって。ということは Python[-1] みたいのは使えないのか。=> 使えない。\n",
        "\n",
        "`indexOf()` はメソッドで、探す文字列がなかった場合 `-1` を返す。\n",
        "\n",
        "そそ、true or false で数値の扱いはどうなっているのか。"
      ]
    },
    {
      "cell_type": "code",
      "metadata": {
        "id": "WYvEdXXt-91N",
        "colab": {
          "base_uri": "https://localhost:8080/",
          "height": 46
        },
        "outputId": "ace11dbf-e634-46ea-8c33-e0f6bf476854"
      },
      "source": [
        "# 実験 真偽値と数値の関係\n",
        "%%html\n",
        "<script>\n",
        "    function addPara(item) {\n",
        "        let para = document.createElement('p');\n",
        "        para.textContent = item;\n",
        "        document.body.appendChild(para);\n",
        "    }\n",
        "\n",
        "    if (0) {\n",
        "        addPara(\"Too true!!!!\");\n",
        "    } else if (-1) {\n",
        "        addPara(\"True\");\n",
        "    } else {\n",
        "        addPara(\"false\");\n",
        "    }\n",
        "\n",
        "</script>"
      ],
      "execution_count": null,
      "outputs": [
        {
          "output_type": "display_data",
          "data": {
            "text/html": [
              "<script>\n",
              "    function addPara(item) {\n",
              "        let para = document.createElement('p');\n",
              "        para.textContent = item;\n",
              "        document.body.appendChild(para);\n",
              "    }\n",
              "\n",
              "    if (0) {\n",
              "        addPara(\"Too true!!!!\");\n",
              "    } else if (-1) {\n",
              "        addPara(\"True\");\n",
              "    } else {\n",
              "        addPara(\"false\");\n",
              "    }\n",
              "\n",
              "</script>"
            ],
            "text/plain": [
              "<IPython.core.display.HTML object>"
            ]
          },
          "metadata": {
            "tags": []
          }
        }
      ]
    },
    {
      "cell_type": "markdown",
      "metadata": {
        "id": "1Oer_s5F_5Ml"
      },
      "source": [
        "Python では数値はゼロ以外はTrue、文字列は `\"\"` 以外はTrue、`()`、`[]`、`{}`、以外がTrue。あと `None` はFalse。\n",
        "\n",
        "しかし!!!!\n",
        "\n",
        "JavaScript は以下以外はすべて true;\n",
        "\n",
        "・数値 0、NaN\n",
        "・null\n",
        "・undifined\n",
        "・空文字列\n",
        "\n",
        "ということは、`[]`、`{}` は true。\n",
        "\n"
      ]
    },
    {
      "cell_type": "markdown",
      "metadata": {
        "id": "muLsfUNbGRg4"
      },
      "source": [
        "### 問題 クリスマスカード"
      ]
    },
    {
      "cell_type": "code",
      "metadata": {
        "id": "eGIBg74tGV31",
        "colab": {
          "base_uri": "https://localhost:8080/",
          "height": 69
        },
        "outputId": "dca7325e-251a-4d46-a95b-6953a3964329"
      },
      "source": [
        "%%html\n",
        "<div></div>\n",
        "<script>\n",
        "    const list = document.querySelector('div');\n",
        "    list.innerHTML = '';\n",
        "    let greetings = ['Happy Birthday!',\n",
        "        'Merry Christmas my love',\n",
        "        'A happy Christmas to all the family',\n",
        "        'You\\'re all I want for Christmas',\n",
        "        'Get well soon'];\n",
        "\n",
        "    for (let i = 0; i < greetings.length; i++) {\n",
        "        let input = greetings[i];\n",
        "        // 以下の条件の括弧内の内容を書き換えて下さい\n",
        "        if (greetings[i].indexOf(\"Christmas\") !== -1) {\n",
        "            let listItem = document.createElement('li');\n",
        "            listItem.textContent = input;\n",
        "            list.appendChild(listItem);\n",
        "        }\n",
        "    }\n",
        "</script>"
      ],
      "execution_count": null,
      "outputs": [
        {
          "output_type": "display_data",
          "data": {
            "text/html": [
              "<div></div>\n",
              "<script>\n",
              "    const list = document.querySelector('div');\n",
              "    list.innerHTML = '';\n",
              "    let greetings = ['Happy Birthday!',\n",
              "        'Merry Christmas my love',\n",
              "        'A happy Christmas to all the family',\n",
              "        'You\\'re all I want for Christmas',\n",
              "        'Get well soon'];\n",
              "\n",
              "    for (let i = 0; i < greetings.length; i++) {\n",
              "        let input = greetings[i];\n",
              "        // 以下の条件の括弧内の内容を書き換えて下さい\n",
              "        if (greetings[i].indexOf(\"Christmas\") !== -1) {\n",
              "            let listItem = document.createElement('li');\n",
              "            listItem.textContent = input;\n",
              "            list.appendChild(listItem);\n",
              "        }\n",
              "    }\n",
              "</script>"
            ],
            "text/plain": [
              "<IPython.core.display.HTML object>"
            ]
          },
          "metadata": {
            "tags": []
          }
        }
      ]
    },
    {
      "cell_type": "markdown",
      "metadata": {
        "id": "7eddOXZTKqs5"
      },
      "source": [
        "問題もなんだけど、`document.createElement('li');` がおもしろい。"
      ]
    },
    {
      "cell_type": "code",
      "metadata": {
        "id": "o8hdNf_sk0zJ",
        "colab": {
          "base_uri": "https://localhost:8080/",
          "height": 74
        },
        "outputId": "138a8a37-6594-4677-cb71-8d0dc34245f2"
      },
      "source": [
        "# 実験 innterHTML\n",
        "%%html\n",
        "<style>\n",
        "h1 { color: red;}\n",
        "</style>\n",
        "<div></div>\n",
        "<script>\n",
        "    const list = document.querySelector('div');\n",
        "    // list.innerHTML = '';\n",
        "    let item = document.createElement('h1');\n",
        "    item.textContent = \"大きくなるかな!!!\";\n",
        "    list.appendChild(item);\n",
        "</script>"
      ],
      "execution_count": null,
      "outputs": [
        {
          "output_type": "display_data",
          "data": {
            "text/html": [
              "<style>\n",
              "h1 { color: red;}\n",
              "</style>\n",
              "<div></div>\n",
              "<script>\n",
              "    const list = document.querySelector('div');\n",
              "    // list.innerHTML = '';\n",
              "    let item = document.createElement('h1');\n",
              "    item.textContent = \"大きくなるかな!!!\";\n",
              "    list.appendChild(item);\n",
              "</script>"
            ],
            "text/plain": [
              "<IPython.core.display.HTML object>"
            ]
          },
          "metadata": {
            "tags": []
          }
        }
      ]
    },
    {
      "cell_type": "markdown",
      "metadata": {
        "id": "nNYTWEwQYDAr"
      },
      "source": [
        "### 問題 都市名\n",
        "\n",
        "最初を大文字に、それ以降を小文字にする。"
      ]
    },
    {
      "cell_type": "markdown",
      "metadata": {
        "id": "HX6cdlafwp0v"
      },
      "source": [
        "# いまここ"
      ]
    },
    {
      "cell_type": "code",
      "metadata": {
        "id": "tJI4HijtYLpt",
        "colab": {
          "base_uri": "https://localhost:8080/",
          "height": 86
        },
        "outputId": "c0280390-afbe-49ae-d00d-05c94f190d39"
      },
      "source": [
        "%%javascript\n",
        "\n",
        "const list = document.querySelector(\"#output-area\");\n",
        "list.innerHTML = '';\n",
        "document.body.style = \"white-space: pre;\";\n",
        "\n",
        "function print (str) {\n",
        "    let item = document.createElement('div');\n",
        "    item.textContent = str;\n",
        "    list.appendChild(item);\n",
        "};\n",
        "\n",
        "let cities = ['lonDon', 'ManCHESTer', 'BiRmiNGHAM', 'liVERpoOL'];\n",
        "\n",
        "for(var i = 0; i < cities.length; i++) {\n",
        "  var input = cities[i];\n",
        "//   この下にコードを書いて下さい\n",
        "  input = input.toLowerCase();\n",
        "  head = input[0]\n",
        "  input = input.replace(head, head.toUpperCase());\n",
        "\n",
        "  let result = input;\n",
        "\n",
        "  print(result);\n",
        "}"
      ],
      "execution_count": null,
      "outputs": [
        {
          "output_type": "display_data",
          "data": {
            "application/javascript": [
              "\n",
              "const list = document.querySelector(\"#output-area\");\n",
              "list.innerHTML = '';\n",
              "document.body.style = \"white-space: pre;\";\n",
              "\n",
              "function print (str) {\n",
              "    let item = document.createElement('div');\n",
              "    item.textContent = str;\n",
              "    list.appendChild(item);\n",
              "};\n",
              "\n",
              "let cities = ['lonDon', 'ManCHESTer', 'BiRmiNGHAM', 'liVERpoOL'];\n",
              "\n",
              "for(var i = 0; i < cities.length; i++) {\n",
              "  var input = cities[i];\n",
              "//   この下にコードを書いて下さい\n",
              "  input = input.toLowerCase();\n",
              "  head = input[0]\n",
              "  input = input.replace(head, head.toUpperCase());\n",
              "\n",
              "  let result = input;\n",
              "\n",
              "  print(result);\n",
              "}"
            ],
            "text/plain": [
              "<IPython.core.display.Javascript object>"
            ]
          },
          "metadata": {
            "tags": []
          }
        }
      ]
    },
    {
      "cell_type": "markdown",
      "metadata": {
        "id": "GcHmsXOlazeE"
      },
      "source": [
        "### 問題 駅コードの抽出\n",
        "\n",
        "最初の3文字アルファベットと、セミコロン以下をまとめて編集して出力。\n"
      ]
    },
    {
      "cell_type": "code",
      "metadata": {
        "id": "gdxQvSeDa_YZ",
        "colab": {
          "base_uri": "https://localhost:8080/",
          "height": 102
        },
        "outputId": "3f47b03c-abca-4823-97da-a86c57dca20b"
      },
      "source": [
        "%%javascript\n",
        "\n",
        "const list = document.querySelector(\"#output-area\");\n",
        "list.innerHTML = '';\n",
        "document.body.style = \"white-space: pre;\";\n",
        "\n",
        "function print (str) {\n",
        "    let item = document.createElement('div');\n",
        "    item.textContent = str;\n",
        "    list.appendChild(item);\n",
        "};\n",
        "\n",
        "\n",
        "\n",
        "let stations = ['MAN675847583748sjt567654;Manchester Piccadilly',\n",
        "                'GNF576746573fhdg4737dh4;Greenfield',\n",
        "                'LIV5hg65hd737456236dch46dg4;Liverpool Lime Street',\n",
        "                'SYB4f65hf75f736463;Stalybridge',\n",
        "                'HUD5767ghtyfyr4536dh45dg45dg3;Huddersfield'];\n",
        "\n",
        "for (var i = 0; i < stations.length; i++) {\n",
        "  let input = stations[i];\n",
        "  // この下にコードを書いてください\n",
        "  head = input.slice(0,3);\n",
        "  name = input.slice(input.indexOf(';')+1 , input.length);\n",
        "  let result = head + \" : \" + name;\n",
        "\n",
        "  print (result);\n",
        "}"
      ],
      "execution_count": null,
      "outputs": [
        {
          "output_type": "display_data",
          "data": {
            "application/javascript": [
              "\n",
              "const list = document.querySelector(\"#output-area\");\n",
              "list.innerHTML = '';\n",
              "document.body.style = \"white-space: pre;\";\n",
              "\n",
              "function print (str) {\n",
              "    let item = document.createElement('div');\n",
              "    item.textContent = str;\n",
              "    list.appendChild(item);\n",
              "};\n",
              "\n",
              "\n",
              "\n",
              "let stations = ['MAN675847583748sjt567654;Manchester Piccadilly',\n",
              "                'GNF576746573fhdg4737dh4;Greenfield',\n",
              "                'LIV5hg65hd737456236dch46dg4;Liverpool Lime Street',\n",
              "                'SYB4f65hf75f736463;Stalybridge',\n",
              "                'HUD5767ghtyfyr4536dh45dg45dg3;Huddersfield'];\n",
              "\n",
              "for (var i = 0; i < stations.length; i++) {\n",
              "  let input = stations[i];\n",
              "  // この下にコードを書いてください\n",
              "  head = input.slice(0,3);\n",
              "  name = input.slice(input.indexOf(';')+1 , input.length);\n",
              "  let result = head + \" : \" + name;\n",
              "\n",
              "  print (result);\n",
              "}"
            ],
            "text/plain": [
              "<IPython.core.display.Javascript object>"
            ]
          },
          "metadata": {
            "tags": []
          }
        }
      ]
    },
    {
      "cell_type": "markdown",
      "metadata": {
        "id": "7jWwVKIdLUAe"
      },
      "source": [
        "### 問題 変数"
      ]
    },
    {
      "cell_type": "code",
      "metadata": {
        "id": "kvyGSxM1LEmh",
        "colab": {
          "base_uri": "https://localhost:8080/",
          "height": 69
        },
        "outputId": "5a32c2fb-8c23-4d92-cb70-55e5ed51ad01"
      },
      "source": [
        "%%javascript\n",
        "\n",
        "const list = document.querySelector(\"#output-area\");\n",
        "list.innerHTML = '';\n",
        "\n",
        "let myName = \"Taro\";\n",
        "let myAge = \"69\";\n",
        "\n",
        "let para1 = document.createElement('p');\n",
        "para1.textContent = myName;\n",
        "let para2 = document.createElement('p');\n",
        "para2.textContent = myAge;\n",
        "list.appendChild(para1);\n",
        "list.appendChild(para2);\n"
      ],
      "execution_count": null,
      "outputs": [
        {
          "output_type": "display_data",
          "data": {
            "application/javascript": [
              "\n",
              "const list = document.querySelector(\"#output-area\");\n",
              "list.innerHTML = '';\n",
              "\n",
              "let myName = \"Taro\";\n",
              "let myAge = \"69\";\n",
              "\n",
              "let para1 = document.createElement('p');\n",
              "para1.textContent = myName;\n",
              "let para2 = document.createElement('p');\n",
              "para2.textContent = myAge;\n",
              "list.appendChild(para1);\n",
              "list.appendChild(para2);"
            ],
            "text/plain": [
              "<IPython.core.display.Javascript object>"
            ]
          },
          "metadata": {
            "tags": []
          }
        }
      ]
    },
    {
      "cell_type": "markdown",
      "metadata": {
        "id": "pGkX7qcWNcg8"
      },
      "source": [
        "やはり `print()` を使った方がいいね!!!!"
      ]
    },
    {
      "cell_type": "code",
      "metadata": {
        "id": "6o7_t30NNcB8",
        "colab": {
          "base_uri": "https://localhost:8080/",
          "height": 51
        },
        "outputId": "c64e272c-78f5-4b6e-8afb-311605d6eaea"
      },
      "source": [
        "%%javascript\n",
        "\n",
        "const list = document.querySelector(\"#output-area\");\n",
        "list.innerHTML = '';\n",
        "document.body.style = \"white-space: pre;\";\n",
        "\n",
        "function print (str) {\n",
        "    let item = document.createElement('div');\n",
        "    item.textContent = str;\n",
        "    list.appendChild(item);\n",
        "};\n",
        "\n",
        "let myName = \"Taro\";\n",
        "let myAge = \"69\";\n",
        "\n",
        "print (myName);\n",
        "print (myAge);"
      ],
      "execution_count": null,
      "outputs": [
        {
          "output_type": "display_data",
          "data": {
            "application/javascript": [
              "\n",
              "const list = document.querySelector(\"#output-area\");\n",
              "list.innerHTML = '';\n",
              "document.body.style = \"white-space: pre;\";\n",
              "\n",
              "function print (str) {\n",
              "    let item = document.createElement('div');\n",
              "    item.textContent = str;\n",
              "    list.appendChild(item);\n",
              "};\n",
              "\n",
              "let myName = \"Taro\";\n",
              "let myAge = \"69\";\n",
              "\n",
              "print (myName);\n",
              "print (myAge);"
            ],
            "text/plain": [
              "<IPython.core.display.Javascript object>"
            ]
          },
          "metadata": {
            "tags": []
          }
        }
      ]
    },
    {
      "cell_type": "markdown",
      "metadata": {
        "id": "3WTA5soaN_qy"
      },
      "source": [
        "### 問題 定数\n"
      ]
    },
    {
      "cell_type": "code",
      "metadata": {
        "id": "lA8RJGziOCjs",
        "colab": {
          "base_uri": "https://localhost:8080/",
          "height": 68
        },
        "outputId": "f169d9c2-cd0b-4e20-8a26-3c1443dd84fe"
      },
      "source": [
        "%%javascript\n",
        "\n",
        "const list = document.querySelector(\"#output-area\");\n",
        "list.innerHTML = '';\n",
        "document.body.style = \"white-space: pre;\";\n",
        "\n",
        "function print (str) {\n",
        "    let item = document.createElement('div');\n",
        "    item.textContent = str;\n",
        "    list.appendChild(item);\n",
        "};\n",
        "\n",
        "const myName = 'Default';\n",
        "// myName = 'Chris'\n",
        "\n",
        "let myAge = '42';\n",
        "\n",
        "print (myName);\n",
        "print(`In 20 years, I will be ${myAge + 20}`);\n",
        "print('In 20 years, I will be ${myAge + 20}');\n",
        "\n"
      ],
      "execution_count": null,
      "outputs": [
        {
          "output_type": "display_data",
          "data": {
            "application/javascript": [
              "\n",
              "const list = document.querySelector(\"#output-area\");\n",
              "list.innerHTML = '';\n",
              "document.body.style = \"white-space: pre;\";\n",
              "\n",
              "function print (str) {\n",
              "    let item = document.createElement('div');\n",
              "    item.textContent = str;\n",
              "    list.appendChild(item);\n",
              "};\n",
              "\n",
              "const myName = 'Default';\n",
              "// myName = 'Chris'\n",
              "\n",
              "let myAge = '42';\n",
              "\n",
              "print (myName);\n",
              "print(`In 20 years, I will be ${myAge + 20}`);\n",
              "print('In 20 years, I will be ${myAge + 20}');\n"
            ],
            "text/plain": [
              "<IPython.core.display.Javascript object>"
            ]
          },
          "metadata": {
            "tags": []
          }
        }
      ]
    },
    {
      "cell_type": "markdown",
      "metadata": {
        "id": "A-EgnA0EZSIu"
      },
      "source": [
        "### 問題 算数 1"
      ]
    },
    {
      "cell_type": "code",
      "metadata": {
        "id": "ieBRgfwnZVdl",
        "colab": {
          "base_uri": "https://localhost:8080/",
          "height": 51
        },
        "outputId": "cc2567dd-6355-45ff-a0f9-c9dda5bbff52"
      },
      "source": [
        "%%javascript\n",
        "\n",
        "const list = document.querySelector(\"#output-area\");\n",
        "list.innerHTML = '';\n",
        "document.body.style = \"white-space: pre;\";\n",
        "\n",
        "function print (str) {\n",
        "    let item = document.createElement('div');\n",
        "    item.textContent = str;\n",
        "    list.appendChild(item);\n",
        "};\n",
        "\n",
        "\n",
        "let finalResult;\n",
        "\n",
        "let evenOddResult;\n",
        "\n",
        "let num1 = 1;\n",
        "let num2 = 2;\n",
        "let numsum = num1 + num2;\n",
        "let num3 = 19;\n",
        "let num4 = 3;\n",
        "let numsub = num3 - num4;\n",
        "finalResult = numsum * numsub;\n",
        "\n",
        "evenOddResult = finalResult % 2;\n",
        "\n",
        "let para1 = document.createElement('p');\n",
        "let finalResultCheck = finalResult === 48 ? `Yes, well done!` : `No, it is ${ finalResult }`;\n",
        "para1.textContent = `Is the finalResult 48? ${ finalResultCheck }`;\n",
        "let para2 = document.createElement('p');\n",
        "let evenOddResultCheck = evenOddResult === 0 ? 'The final result is even!' : 'The final result is odd. Hrm.'\n",
        "para2.textContent = evenOddResultCheck;\n",
        "\n",
        "print (para1.textContent);\n",
        "print (para2.textContent);"
      ],
      "execution_count": null,
      "outputs": [
        {
          "output_type": "display_data",
          "data": {
            "application/javascript": [
              "\n",
              "const list = document.querySelector(\"#output-area\");\n",
              "list.innerHTML = '';\n",
              "document.body.style = \"white-space: pre;\";\n",
              "\n",
              "function print (str) {\n",
              "    let item = document.createElement('div');\n",
              "    item.textContent = str;\n",
              "    list.appendChild(item);\n",
              "};\n",
              "\n",
              "\n",
              "let finalResult;\n",
              "\n",
              "let evenOddResult;\n",
              "\n",
              "// Add your code here\n",
              "let num1 = 1;\n",
              "let num2 = 2;\n",
              "let numsum = num1 + num2;\n",
              "let num3 = 19;\n",
              "let num4 = 3;\n",
              "let numsub = num3 - num4;\n",
              "finalResult = numsum * numsub;\n",
              "\n",
              "evenOddResult = finalResult % 2;\n",
              "\n",
              "// Don't edit the code below here!\n",
              "\n",
              "// section.innerHTML = ' ';\n",
              "let para1 = document.createElement('p');\n",
              "let finalResultCheck = finalResult === 48 ? `Yes, well done!` : `No, it is ${ finalResult }`;\n",
              "para1.textContent = `Is the finalResult 48? ${ finalResultCheck }`;\n",
              "let para2 = document.createElement('p');\n",
              "let evenOddResultCheck = evenOddResult === 0 ? 'The final result is even!' : 'The final result is odd. Hrm.'\n",
              "para2.textContent = evenOddResultCheck;\n",
              "\n",
              "// section.appendChild(para1);\n",
              "// section.appendChild(para2);\n",
              "print (para1.textContent);\n",
              "print (para2.textContent);"
            ],
            "text/plain": [
              "<IPython.core.display.Javascript object>"
            ]
          },
          "metadata": {
            "tags": []
          }
        }
      ]
    },
    {
      "cell_type": "markdown",
      "metadata": {
        "id": "bR3sm6y2bt3h"
      },
      "source": [
        "### 問題 算数 2"
      ]
    },
    {
      "cell_type": "code",
      "metadata": {
        "id": "U2qDo_E_bwRz",
        "colab": {
          "base_uri": "https://localhost:8080/",
          "height": 136
        },
        "outputId": "1c6bda31-8dba-4c65-b101-150121f3015a"
      },
      "source": [
        "%%javascript\n",
        "\n",
        "const list = document.querySelector(\"#output-area\");\n",
        "list.innerHTML = '';\n",
        "document.body.style = \"white-space: pre;\";\n",
        "\n",
        "function print (str) {\n",
        "    let item = document.createElement('div');\n",
        "    item.textContent = str;\n",
        "    list.appendChild(item);\n",
        "};\n",
        "\n",
        "\n",
        "// Final result should be 10.42\n",
        "// Add/update your code here\n",
        "\n",
        "let result = (7 + 13) / (9 + 7);\n",
        "let result2 = 100 / (2 * 6);\n",
        "\n",
        "print (result);\n",
        "print (result2);\n",
        "\n",
        "result *= result2;\n",
        "print (result);\n",
        "\n",
        "finalResult = result.toFixed(2);\n",
        "print (finalResult);\n",
        "print (typeof(finalResult));\n",
        "finalNumber = Number(finalResult);\n",
        "\n",
        "let para1 = document.createElement('p');\n",
        "para1.textContent = `Your finalResult is ${ finalResult }`;\n",
        "let para2 = document.createElement('p');\n",
        "let finalNumberCheck = isNaN(finalNumber) === false ? 'finalNumber is a number type. Well done!' : `Ooops! finalNumber is not a number.`;\n",
        "para2.textContent = finalNumberCheck;\n",
        "\n",
        "print (para1.textContent);\n",
        "print (para2.textContent);\n"
      ],
      "execution_count": null,
      "outputs": [
        {
          "output_type": "display_data",
          "data": {
            "application/javascript": [
              "\n",
              "const list = document.querySelector(\"#output-area\");\n",
              "list.innerHTML = '';\n",
              "document.body.style = \"white-space: pre;\";\n",
              "\n",
              "function print (str) {\n",
              "    let item = document.createElement('div');\n",
              "    item.textContent = str;\n",
              "    list.appendChild(item);\n",
              "};\n",
              "\n",
              "\n",
              "// Final result should be 10.42\n",
              "// Add/update your code here\n",
              "\n",
              "let result = (7 + 13) / (9 + 7);\n",
              "let result2 = 100 / (2 * 6);\n",
              "\n",
              "print (result);\n",
              "print (result2);\n",
              "\n",
              "result *= result2;\n",
              "print (result);\n",
              "\n",
              "finalResult = result.toFixed(2);\n",
              "print (finalResult);\n",
              "print (typeof(finalResult));\n",
              "finalNumber = Number(finalResult);\n",
              "\n",
              "let para1 = document.createElement('p');\n",
              "para1.textContent = `Your finalResult is ${ finalResult }`;\n",
              "let para2 = document.createElement('p');\n",
              "let finalNumberCheck = isNaN(finalNumber) === false ? 'finalNumber is a number type. Well done!' : `Ooops! finalNumber is not a number.`;\n",
              "para2.textContent = finalNumberCheck;\n",
              "\n",
              "print (para1.textContent);\n",
              "print (para2.textContent);"
            ],
            "text/plain": [
              "<IPython.core.display.Javascript object>"
            ]
          },
          "metadata": {
            "tags": []
          }
        }
      ]
    },
    {
      "cell_type": "markdown",
      "metadata": {
        "id": "hp950eaXgA6h"
      },
      "source": [
        "### 問題 算数 3"
      ]
    },
    {
      "cell_type": "code",
      "metadata": {
        "id": "LGj7B4IrgETU",
        "colab": {
          "base_uri": "https://localhost:8080/",
          "height": 119
        },
        "outputId": "10003346-d135-4946-8ee8-800fe93c58a6"
      },
      "source": [
        "%%javascript\n",
        "\n",
        "const list = document.querySelector(\"#output-area\");\n",
        "list.innerHTML = '';\n",
        "document.body.style = \"white-space: pre;\";\n",
        "\n",
        "function print (str) {\n",
        "    let item = document.createElement('div');\n",
        "    item.textContent = str;\n",
        "    list.appendChild(item);\n",
        "};\n",
        "\n",
        "\n",
        "\n",
        "// Statement 1: The elephant weights less than the mouse\n",
        "let eleWeight = 1000;\n",
        "let mouseWeight = 2;\n",
        "\n",
        "// Statement 2: The Ostrich is taller than the duck\n",
        "let ostrichHeight = 2;\n",
        "let duckHeight = 0.3;\n",
        "\n",
        "// Statement 3: The two passwords match\n",
        "let pwd1 = 'stromboli';\n",
        "let pwd2 = 'stROmBoLi'\n",
        "\n",
        "// Add your code here\n",
        "\n",
        "let weightComparison = eleWeight < mouseWeight;\n",
        "let heightComparison = ostrichHeight > duckHeight;\n",
        "let pwdMatch = pwd1 === pwd2\n",
        "\n",
        "print (weightComparison);\n",
        "print (heightComparison);\n",
        "print (pwdMatch);\n",
        "\n",
        "let para1 = document.createElement('p');\n",
        "let para2 = document.createElement('p');\n",
        "let para3 = document.createElement('p');\n",
        "\n",
        "let weightTest = weightComparison ? 'True — elephants weight less than mice!?' : 'False — of course an elephant is heavier than a mouse!';\n",
        "let heightTest = heightComparison ? 'True — an ostrich is indeed taller than a duck!' : 'False — apparently a duck is taller than an ostrich!?';\n",
        "let pwdTest = pwdMatch ? 'True — the passwords match.' : 'False — the passwords do not match; please check them';\n",
        "\n",
        "// para1.textContent = weightTest;\n",
        "// section.appendChild(para1);\n",
        "// para2.textContent = heightTest;\n",
        "// section.appendChild(para2);\n",
        "// para3.textContent = pwdTest;\n",
        "// section.appendChild(para3);\n",
        "\n",
        "print (weightTest);\n",
        "print (heightTest);\n",
        "print (pwdTest);\n"
      ],
      "execution_count": null,
      "outputs": [
        {
          "output_type": "display_data",
          "data": {
            "application/javascript": [
              "\n",
              "const list = document.querySelector(\"#output-area\");\n",
              "list.innerHTML = '';\n",
              "document.body.style = \"white-space: pre;\";\n",
              "\n",
              "function print (str) {\n",
              "    let item = document.createElement('div');\n",
              "    item.textContent = str;\n",
              "    list.appendChild(item);\n",
              "};\n",
              "\n",
              "\n",
              "\n",
              "// Statement 1: The elephant weights less than the mouse\n",
              "let eleWeight = 1000;\n",
              "let mouseWeight = 2;\n",
              "\n",
              "// Statement 2: The Ostrich is taller than the duck\n",
              "let ostrichHeight = 2;\n",
              "let duckHeight = 0.3;\n",
              "\n",
              "// Statement 3: The two passwords match\n",
              "let pwd1 = 'stromboli';\n",
              "let pwd2 = 'stROmBoLi'\n",
              "\n",
              "// Add your code here\n",
              "\n",
              "let weightComparison = eleWeight < mouseWeight;\n",
              "let heightComparison = ostrichHeight > duckHeight;\n",
              "let pwdMatch = pwd1 === pwd2\n",
              "\n",
              "print (weightComparison);\n",
              "print (heightComparison);\n",
              "print (pwdMatch);\n",
              "\n",
              "let para1 = document.createElement('p');\n",
              "let para2 = document.createElement('p');\n",
              "let para3 = document.createElement('p');\n",
              "\n",
              "let weightTest = weightComparison ? 'True — elephants weight less than mice!?' : 'False — of course an elephant is heavier than a mouse!';\n",
              "let heightTest = heightComparison ? 'True — an ostrich is indeed taller than a duck!' : 'False — apparently a duck is taller than an ostrich!?';\n",
              "let pwdTest = pwdMatch ? 'True — the passwords match.' : 'False — the passwords do not match; please check them';\n",
              "\n",
              "// para1.textContent = weightTest;\n",
              "// section.appendChild(para1);\n",
              "// para2.textContent = heightTest;\n",
              "// section.appendChild(para2);\n",
              "// para3.textContent = pwdTest;\n",
              "// section.appendChild(para3);\n",
              "\n",
              "print (weightTest);\n",
              "print (heightTest);\n",
              "print (pwdTest);\n",
              "    "
            ],
            "text/plain": [
              "<IPython.core.display.Javascript object>"
            ]
          },
          "metadata": {
            "tags": []
          }
        }
      ]
    },
    {
      "cell_type": "markdown",
      "metadata": {
        "id": "sx_FSpdLnf0C"
      },
      "source": [
        "# 配列 array\n",
        "\n",
        "JavaScript では配列 array というが実はリストのこと。\n"
      ]
    },
    {
      "cell_type": "code",
      "metadata": {
        "id": "IAjhH9F2nykZ",
        "colab": {
          "base_uri": "https://localhost:8080/",
          "height": 204
        },
        "outputId": "9601ce7d-6a4b-4e5c-dfe9-bf2f8cc9434d"
      },
      "source": [
        "%%javascript\n",
        "\n",
        "const list = document.querySelector(\"#output-area\");\n",
        "list.innerHTML = '';\n",
        "document.body.style = \"white-space: pre;\";\n",
        "\n",
        "function print (str) {\n",
        "    let item = document.createElement('div');\n",
        "    item.textContent = str;\n",
        "    list.appendChild(item);\n",
        "};\n",
        "\n",
        "\n",
        "let shopping = ['パン', '牛乳', 'チーズ', 'ハム', '麺'];\n",
        "print (shopping);\n",
        "print (typeof(shopping));\n",
        "\n",
        "print (shopping[0]);\n",
        "\n",
        "shopping[0] = 'タヒーニ';\n",
        "print (shopping[0]);\n",
        "\n",
        "let sequence = [1, 1, 2, 3, 5, 8, 13];\n",
        "let random = ['tree', 795, [0, 1, 2]];\n",
        "\n",
        "print (random[2][2]);\n",
        "print (sequence.length);\n",
        "\n",
        "for (let i = 0; i < shopping.length; i++){\n",
        "    print (shopping[i]);\n",
        "}"
      ],
      "execution_count": null,
      "outputs": [
        {
          "output_type": "display_data",
          "data": {
            "application/javascript": [
              "\n",
              "const list = document.querySelector(\"#output-area\");\n",
              "list.innerHTML = '';\n",
              "document.body.style = \"white-space: pre;\";\n",
              "\n",
              "function print (str) {\n",
              "    let item = document.createElement('div');\n",
              "    item.textContent = str;\n",
              "    list.appendChild(item);\n",
              "};\n",
              "\n",
              "\n",
              "let shopping = ['パン', '牛乳', 'チーズ', 'ハム', '麺'];\n",
              "print (shopping);\n",
              "print (typeof(shopping));\n",
              "\n",
              "print (shopping[0]);\n",
              "\n",
              "shopping[0] = 'タヒーニ';\n",
              "print (shopping[0]);\n",
              "\n",
              "let sequence = [1, 1, 2, 3, 5, 8, 13];\n",
              "let random = ['tree', 795, [0, 1, 2]];\n",
              "\n",
              "print (random[2][2]);\n",
              "print (sequence.length);\n",
              "\n",
              "for (let i = 0; i < shopping.length; i++){\n",
              "    print (shopping[i]);\n",
              "}"
            ],
            "text/plain": [
              "<IPython.core.display.Javascript object>"
            ]
          },
          "metadata": {
            "tags": []
          }
        }
      ]
    },
    {
      "cell_type": "markdown",
      "metadata": {
        "id": "B8uTXQzHs6U1"
      },
      "source": [
        "### 配列と文字列"
      ]
    },
    {
      "cell_type": "code",
      "metadata": {
        "id": "YBRFbk-ls91A",
        "colab": {
          "base_uri": "https://localhost:8080/",
          "height": 255
        },
        "outputId": "c9fb36dd-f734-482b-844b-92b814ca350d"
      },
      "source": [
        "%%javascript\n",
        "\n",
        "const list = document.querySelector(\"#output-area\");\n",
        "list.innerHTML = '';\n",
        "document.body.style = \"white-space: pre;\";\n",
        "\n",
        "function print (str) {\n",
        "    let item = document.createElement('div');\n",
        "    item.textContent = str;\n",
        "    list.appendChild(item);\n",
        "};\n",
        "\n",
        "let myData = '札幌,仙台,東京,名古屋,大阪,博多';\n",
        "let myArray = myData.split(',');\n",
        "print (myData);\n",
        "print (myArray);\n",
        "print (myArray[0]);\n",
        "\n",
        "let myNewString = myArray.join (' -> ');\n",
        "print (myNewString);\n",
        "\n",
        "let dogNames = ['ポチ','ハチ','タロウ','モコ'];\n",
        "dogNames.toString(); //ポチ,ハチ,タロウ,モコ\n",
        "print (typeof(String (dogNames)));\n",
        "myArray.push('横浜');\n",
        "print (myArray);\n",
        "myArray.push('神戸', '広島');\n",
        "print (myArray);\n",
        "let newLength = myArray.push('京都');\n",
        "print (myArray);\n",
        "print (newLength);\n",
        "let removedItem = myArray.pop();\n",
        "print (myArray);\n",
        "print (removedItem);\n",
        "myArray.unshift('奈良');\n",
        "print (myArray);\n",
        "removedItem = myArray.shift();\n",
        "print (myArray);\n",
        "print (removedItem);\n"
      ],
      "execution_count": null,
      "outputs": [
        {
          "output_type": "display_data",
          "data": {
            "application/javascript": [
              "\n",
              "const list = document.querySelector(\"#output-area\");\n",
              "list.innerHTML = '';\n",
              "document.body.style = \"white-space: pre;\";\n",
              "\n",
              "function print (str) {\n",
              "    let item = document.createElement('div');\n",
              "    item.textContent = str;\n",
              "    list.appendChild(item);\n",
              "};\n",
              "\n",
              "let myData = '札幌,仙台,東京,名古屋,大阪,博多';\n",
              "let myArray = myData.split(',');\n",
              "print (myData);\n",
              "print (myArray);\n",
              "print (myArray[0]);\n",
              "\n",
              "let myNewString = myArray.join (' -> ');\n",
              "print (myNewString);\n",
              "\n",
              "let dogNames = ['ポチ','ハチ','タロウ','モコ'];\n",
              "dogNames.toString(); //ポチ,ハチ,タロウ,モコ\n",
              "print (typeof(String (dogNames)));\n",
              "myArray.push('横浜');\n",
              "print (myArray);\n",
              "myArray.push('神戸', '広島');\n",
              "print (myArray);\n",
              "let newLength = myArray.push('京都');\n",
              "print (myArray);\n",
              "print (newLength);\n",
              "let removedItem = myArray.pop();\n",
              "print (myArray);\n",
              "print (removedItem);\n",
              "myArray.unshift('奈良');\n",
              "print (myArray);\n",
              "removedItem = myArray.shift();\n",
              "print (myArray);\n",
              "print (removedItem);"
            ],
            "text/plain": [
              "<IPython.core.display.Javascript object>"
            ]
          },
          "metadata": {
            "tags": []
          }
        }
      ]
    },
    {
      "cell_type": "markdown",
      "metadata": {
        "id": "4f-XFOEHeEIB"
      },
      "source": [
        "### 問題 商品の印字\n"
      ]
    },
    {
      "cell_type": "code",
      "metadata": {
        "id": "TFXU-5tAf4EA",
        "colab": {
          "base_uri": "https://localhost:8080/",
          "height": 119
        },
        "outputId": "0c7b2cac-32be-41b6-b474-320419e81051"
      },
      "source": [
        "%%javascript\n",
        "\n",
        "const list = document.querySelector(\"#output-area\");\n",
        "list.innerHTML = '';\n",
        "document.body.style = \"white-space: pre;\";\n",
        "\n",
        "function print (str) {\n",
        "    let item = document.createElement('div');\n",
        "    item.textContent = str;\n",
        "    list.appendChild(item);\n",
        "};\n",
        "\n",
        "function printList (str) {\n",
        "    let item = document.createElement('li');\n",
        "    item.textContent = str;\n",
        "    list.appendChild(item);\n",
        "};\n",
        "\n",
        "let total = 0;\n",
        "\n",
        "let products = [\n",
        "    'パンツ:6.99',\n",
        "    '靴下:5.99',\n",
        "    'T シャツ:14.99',\n",
        "    'ズボン:31.99',\n",
        "    '靴:23.99'\n",
        "]\n",
        "\n",
        "\n",
        "for (let i = 0; i <= (products.length-1); i++) {\n",
        "    total += Number(products[i].split(':')[1]);\n",
        "    product = products[i].split(':')[0];\n",
        "    price = products[i].split(':')[1];\n",
        "\n",
        "    printList (`${product} -- \\$ ${price}`)\n",
        "}\n",
        "print ('合計: $' + total.toFixed(2));\n"
      ],
      "execution_count": null,
      "outputs": [
        {
          "output_type": "display_data",
          "data": {
            "application/javascript": [
              "\n",
              "const list = document.querySelector(\"#output-area\");\n",
              "list.innerHTML = '';\n",
              "document.body.style = \"white-space: pre;\";\n",
              "\n",
              "function print (str) {\n",
              "    let item = document.createElement('div');\n",
              "    item.textContent = str;\n",
              "    list.appendChild(item);\n",
              "};\n",
              "\n",
              "function printList (str) {\n",
              "    let item = document.createElement('li');\n",
              "    item.textContent = str;\n",
              "    list.appendChild(item);\n",
              "};\n",
              "\n",
              "let total = 0;\n",
              "\n",
              "let products = [\n",
              "    'パンツ:6.99', \n",
              "    '靴下:5.99', \n",
              "    'T シャツ:14.99', \n",
              "    'ズボン:31.99', \n",
              "    '靴:23.99'\n",
              "]\n",
              "\n",
              "\n",
              "for (let i = 0; i <= (products.length-1); i++) {\n",
              "    total += Number(products[i].split(':')[1]);\n",
              "    product = products[i].split(':')[0];\n",
              "    price = products[i].split(':')[1];\n",
              "\n",
              "    printList (`${product} -- \\$ ${price}`)\n",
              "}\n",
              "print ('合計: $' + total.toFixed(2));"
            ],
            "text/plain": [
              "<IPython.core.display.Javascript object>"
            ]
          },
          "metadata": {
            "tags": []
          }
        }
      ]
    },
    {
      "cell_type": "markdown",
      "metadata": {
        "id": "YqzuSt6W1zJs"
      },
      "source": [
        "### 問題 上位5件の検索"
      ]
    },
    {
      "cell_type": "code",
      "metadata": {
        "id": "aYw7J7P114TA",
        "colab": {
          "base_uri": "https://localhost:8080/",
          "height": 17
        },
        "outputId": "c9a89ee7-51ce-4fb2-dec3-e9eef9fd55b0"
      },
      "source": [
        "%%javascript\n",
        "\n",
        "// const list = document.querySelector(\"#output-area\");\n",
        "// list.innerHTML = '';\n",
        "// document.body.style = \"white-space: pre;\";\n",
        "\n",
        "// function print (str) {\n",
        "//     let item = document.createElement('div');\n",
        "//     item.textContent = str;\n",
        "//     list.appendChild(item);\n",
        "// };\n",
        "\n",
        "\n",
        "// const list = document.querySelector('.output ul');\n",
        "// const searchInput = document.querySelector('.output input');\n",
        "// const searchBtn = document.querySelector('.output button');\n",
        "\n",
        "// // list.innerHTML = '';\n",
        "\n",
        "// let myHistory = [];\n",
        "\n",
        "// searchBtn.onclick = function() {\n",
        "//   // 検索ボックスが空ではない場合のみ検索語を受け付けるようにします\n",
        "//   if (searchInput.value !== '') {\n",
        "//     // No.1\n",
        "//     myHistory.unshift(searchInput.value);\n",
        "//     // 表示中の一覧を空にして、同じ項目が表示されないようにして、\n",
        "//     // 結果は検索語が入力される度に毎回作り直されます。\n",
        "//     list.innerHTML = '';\n",
        "\n",
        "//     // 配列をループして、リスト内の全ての検索語を表示します\n",
        "//     for (let i = 0; i < myHistory.length; i++) {\n",
        "//       itemText = myHistory[i];\n",
        "//       const listItem = document.createElement('li');\n",
        "//       listItem.textContent = itemText;\n",
        "//       list.appendChild(listItem);\n",
        "//     }\n",
        "\n",
        "//     // 配列の長さが 5以上になったら一番古い検索語を削除します\n",
        "//     if (myHistory.length >= 5) {\n",
        "//       // No.2\n",
        "//       myHistory.pop();\n",
        "//     }\n",
        "\n",
        "//     // 次の検索語を受け付けるため、検索ボックスを空にしてフォーカスします\n",
        "//     searchInput.value = '';\n",
        "//     searchInput.focus();\n",
        "//   }\n",
        "// }\n"
      ],
      "execution_count": null,
      "outputs": [
        {
          "output_type": "display_data",
          "data": {
            "application/javascript": [
              "\n",
              "// const list = document.querySelector(\"#output-area\");\n",
              "// list.innerHTML = '';\n",
              "// document.body.style = \"white-space: pre;\";\n",
              "\n",
              "// function print (str) {\n",
              "//     let item = document.createElement('div');\n",
              "//     item.textContent = str;\n",
              "//     list.appendChild(item);\n",
              "// };\n",
              "\n",
              "\n",
              "const list = document.querySelector('.output ul');\n",
              "const searchInput = document.querySelector('.output input');\n",
              "const searchBtn = document.querySelector('.output button');\n",
              "\n",
              "// list.innerHTML = '';\n",
              "\n",
              "let myHistory = [];\n",
              "\n",
              "searchBtn.onclick = function() {\n",
              "  // 検索ボックスが空ではない場合のみ検索語を受け付けるようにします\n",
              "  if (searchInput.value !== '') {\n",
              "    // No.1\n",
              "    myHistory.unshift(searchInput.value);\n",
              "    // 表示中の一覧を空にして、同じ項目が表示されないようにして、\n",
              "    // 結果は検索語が入力される度に毎回作り直されます。\n",
              "    list.innerHTML = '';\n",
              "\n",
              "    // 配列をループして、リスト内の全ての検索語を表示します\n",
              "    for (let i = 0; i < myHistory.length; i++) {\n",
              "      itemText = myHistory[i];\n",
              "      const listItem = document.createElement('li');\n",
              "      listItem.textContent = itemText;\n",
              "      list.appendChild(listItem);\n",
              "    }\n",
              "\n",
              "    // 配列の長さが 5以上になったら一番古い検索語を削除します\n",
              "    if (myHistory.length >= 5) {\n",
              "      // No.2\n",
              "      myHistory.pop();\n",
              "    }\n",
              "\n",
              "    // 次の検索語を受け付けるため、検索ボックスを空にしてフォーカスします\n",
              "    searchInput.value = '';\n",
              "    searchInput.focus();\n",
              "  }\n",
              "}"
            ],
            "text/plain": [
              "<IPython.core.display.Javascript object>"
            ]
          },
          "metadata": {
            "tags": []
          }
        }
      ]
    },
    {
      "cell_type": "code",
      "metadata": {
        "id": "qG8YOjcLuMTc",
        "colab": {
          "base_uri": "https://localhost:8080/",
          "height": 107
        },
        "outputId": "0f6155ea-8330-44ba-cdff-b62961b8755a"
      },
      "source": [
        "# %%html\n",
        "\n",
        "# <body>\n",
        "# <p class=\"this\">this is p</p>\n",
        "# <script type=\"text/javascript\">\n",
        "# const list = document.querySelector(\".this\");\n",
        "# list.innerHTML = '';\n",
        "# document.body.style = \"white-space: pre;\";\n",
        "\n",
        "# function print (str) {\n",
        "#     let item = document.createElement('div');\n",
        "#     item.textContent = str;\n",
        "#     list.appendChild(item);\n",
        "# };\n",
        "# </script>\n",
        "# <script\n",
        "# </body>"
      ],
      "execution_count": null,
      "outputs": [
        {
          "output_type": "display_data",
          "data": {
            "text/html": [
              "\n",
              "<body>\n",
              "<p class=\"this\">this is p</p>\n",
              "<script type=\"text/javascript\">\n",
              "const list = document.querySelector(\".this\");\n",
              "list.innerHTML = '';\n",
              "document.body.style = \"white-space: pre;\";\n",
              "\n",
              "function print (str) {\n",
              "    let item = document.createElement('div');\n",
              "    item.textContent = str;\n",
              "    list.appendChild(item);\n",
              "};\n",
              "</script>\n",
              "<script \n",
              "</body>"
            ],
            "text/plain": [
              "<IPython.core.display.HTML object>"
            ]
          },
          "metadata": {
            "tags": []
          }
        }
      ]
    },
    {
      "cell_type": "markdown",
      "metadata": {
        "id": "mHWP31WGtmTc"
      },
      "source": [
        "\n",
        "# いまここ\n",
        "\n",
        "https://developer.mozilla.org/ja/docs/Learn/JavaScript/First_steps/Arrays\n",
        "\n",
        "https://wiki.developer.mozilla.org/ja/docs/Learn/JavaScript/First_steps/Test_your_skills:_Arrays"
      ]
    }
  ]
}